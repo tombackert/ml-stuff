{
  "nbformat": 4,
  "nbformat_minor": 0,
  "metadata": {
    "colab": {
      "provenance": [],
      "collapsed_sections": [
        "4knwgFttLBxq",
        "MR2Q_BXbLEPt",
        "CChLp715M2rH",
        "EPQL99k7OLA2"
      ],
      "authorship_tag": "ABX9TyNz+EQykHXEilQLLc1xWqFQ",
      "include_colab_link": true
    },
    "kernelspec": {
      "name": "python3",
      "display_name": "Python 3"
    },
    "language_info": {
      "name": "python"
    }
  },
  "cells": [
    {
      "cell_type": "markdown",
      "metadata": {
        "id": "view-in-github",
        "colab_type": "text"
      },
      "source": [
        "<a href=\"https://colab.research.google.com/github/tombackert/ml-stuff/blob/main/intro_probability.ipynb\" target=\"_parent\"><img src=\"https://colab.research.google.com/assets/colab-badge.svg\" alt=\"Open In Colab\"/></a>"
      ]
    },
    {
      "cell_type": "markdown",
      "source": [
        "# Intro Probability Theory"
      ],
      "metadata": {
        "id": "NqT9LDsBR_HO"
      }
    },
    {
      "cell_type": "code",
      "execution_count": 32,
      "metadata": {
        "id": "lp91op6iHeUS"
      },
      "outputs": [],
      "source": [
        "from fractions import Fraction\n",
        "\n",
        "def P(event, space):\n",
        "    \"The probability of an event, given a sample space.\"\n",
        "    return Fraction(cases(favorable(event, space)),\n",
        "                    cases(space))\n",
        "\n",
        "favorable = set.intersection # Outcomes that are in the event and in the sample space\n",
        "cases     = len              # The number of cases is the length, or size, of a set"
      ]
    },
    {
      "cell_type": "markdown",
      "source": [
        "## Die Roll"
      ],
      "metadata": {
        "id": "4knwgFttLBxq"
      }
    },
    {
      "cell_type": "code",
      "source": [
        "D = {1, 2, 3, 4, 5, 6} # a sample space\n",
        "even = {2, 4, 6}       # an event\n",
        "\n",
        "P(even, D)"
      ],
      "metadata": {
        "colab": {
          "base_uri": "https://localhost:8080/"
        },
        "id": "yxwJ1f3KIbKQ",
        "outputId": "74d1e9c4-6795-4fdf-9dd6-1ee65def6441"
      },
      "execution_count": 33,
      "outputs": [
        {
          "output_type": "execute_result",
          "data": {
            "text/plain": [
              "Fraction(1, 2)"
            ]
          },
          "metadata": {},
          "execution_count": 33
        }
      ]
    },
    {
      "cell_type": "code",
      "source": [
        "prime = {2, 3, 5, 7, 11, 13}\n",
        "odd   = {1, 3, 5, 7, 9, 11, 13}"
      ],
      "metadata": {
        "id": "tdDKt3FgJm8O"
      },
      "execution_count": 34,
      "outputs": []
    },
    {
      "cell_type": "code",
      "source": [
        "P(odd, D)"
      ],
      "metadata": {
        "colab": {
          "base_uri": "https://localhost:8080/"
        },
        "id": "UB6LFnoeJqxv",
        "outputId": "d2fb3811-7a47-495a-aca7-0c5f485b5f4e"
      },
      "execution_count": 35,
      "outputs": [
        {
          "output_type": "execute_result",
          "data": {
            "text/plain": [
              "Fraction(1, 2)"
            ]
          },
          "metadata": {},
          "execution_count": 35
        }
      ]
    },
    {
      "cell_type": "code",
      "source": [
        "P((even | prime), D) # The probability of an even or prime die roll"
      ],
      "metadata": {
        "colab": {
          "base_uri": "https://localhost:8080/"
        },
        "id": "XRG6utjyJw21",
        "outputId": "3fe890dc-9ba4-4df1-f486-7efad2c3287e"
      },
      "execution_count": 37,
      "outputs": [
        {
          "output_type": "execute_result",
          "data": {
            "text/plain": [
              "Fraction(5, 6)"
            ]
          },
          "metadata": {},
          "execution_count": 37
        }
      ]
    },
    {
      "cell_type": "code",
      "source": [
        "P((odd & prime), D) # The probability of an odd prime die roll"
      ],
      "metadata": {
        "colab": {
          "base_uri": "https://localhost:8080/"
        },
        "id": "6zFxlkTXKnoO",
        "outputId": "43575c1d-9aa1-4982-ef5f-f0664cab939a"
      },
      "execution_count": 38,
      "outputs": [
        {
          "output_type": "execute_result",
          "data": {
            "text/plain": [
              "Fraction(1, 3)"
            ]
          },
          "metadata": {},
          "execution_count": 38
        }
      ]
    },
    {
      "cell_type": "markdown",
      "source": [
        "## Card Problems"
      ],
      "metadata": {
        "id": "MR2Q_BXbLEPt"
      }
    },
    {
      "cell_type": "code",
      "source": [
        "suits = u'♥♠♦♣'\n",
        "ranks = u'AKQJT98765432'\n",
        "deck  = [r + s for r in ranks for s in suits]\n",
        "len(deck)"
      ],
      "metadata": {
        "colab": {
          "base_uri": "https://localhost:8080/"
        },
        "id": "fREZ0F3pLH-S",
        "outputId": "0209a49d-6768-4b0a-ecc6-c422d0211adf"
      },
      "execution_count": 39,
      "outputs": [
        {
          "output_type": "execute_result",
          "data": {
            "text/plain": [
              "52"
            ]
          },
          "metadata": {},
          "execution_count": 39
        }
      ]
    },
    {
      "cell_type": "code",
      "source": [
        "import itertools\n",
        "\n",
        "def combos(items, n):\n",
        "  \"All combinations of n items; each combo as a space-seperated str.\"\n",
        "  return set(map(' '.join, itertools.combinations(items, n)))\n",
        "\n",
        "Hands = combos(deck, 5)\n",
        "len(Hands)"
      ],
      "metadata": {
        "colab": {
          "base_uri": "https://localhost:8080/"
        },
        "id": "e1U9cWxuLRZH",
        "outputId": "9cbfe02e-27bc-4447-dbc7-3bb35a350c9a"
      },
      "execution_count": 40,
      "outputs": [
        {
          "output_type": "execute_result",
          "data": {
            "text/plain": [
              "2598960"
            ]
          },
          "metadata": {},
          "execution_count": 40
        }
      ]
    },
    {
      "cell_type": "code",
      "source": [
        "import random\n",
        "random.sample(Hands, 7)"
      ],
      "metadata": {
        "colab": {
          "base_uri": "https://localhost:8080/"
        },
        "id": "4hSk_oBdLrUA",
        "outputId": "9ff7928f-9188-4c77-8563-cebec42cdaec"
      },
      "execution_count": 41,
      "outputs": [
        {
          "output_type": "stream",
          "name": "stderr",
          "text": [
            "<ipython-input-41-646197d50a67>:2: DeprecationWarning: Sampling from a set deprecated\n",
            "since Python 3.9 and will be removed in a subsequent version.\n",
            "  random.sample(Hands, 7)\n"
          ]
        },
        {
          "output_type": "execute_result",
          "data": {
            "text/plain": [
              "['K♠ K♦ T♥ 7♦ 7♣',\n",
              " 'K♣ 8♠ 8♣ 7♦ 4♣',\n",
              " 'Q♥ Q♦ 8♣ 6♥ 5♣',\n",
              " 'K♠ T♣ 9♥ 4♦ 4♣',\n",
              " '8♠ 7♥ 7♦ 3♦ 2♥',\n",
              " 'T♥ T♠ 7♠ 6♦ 4♦',\n",
              " 'A♣ Q♠ J♦ T♥ 2♠']"
            ]
          },
          "metadata": {},
          "execution_count": 41
        }
      ]
    },
    {
      "cell_type": "code",
      "source": [
        "random.sample(deck, 7)"
      ],
      "metadata": {
        "colab": {
          "base_uri": "https://localhost:8080/"
        },
        "id": "NKlVNN01L5Sv",
        "outputId": "6c91e107-3caf-4043-c09b-9263f800b63e"
      },
      "execution_count": 42,
      "outputs": [
        {
          "output_type": "execute_result",
          "data": {
            "text/plain": [
              "['T♥', '6♣', 'K♥', 'K♦', '5♥', '4♣', 'T♦']"
            ]
          },
          "metadata": {},
          "execution_count": 42
        }
      ]
    },
    {
      "cell_type": "code",
      "source": [
        "flush = {hand for hand in Hands if any(hand.count(suit) == 5 for suit in suits)}\n",
        "\n",
        "P(flush, Hands)"
      ],
      "metadata": {
        "colab": {
          "base_uri": "https://localhost:8080/"
        },
        "id": "Mpne_6TyMCLd",
        "outputId": "4e9c3607-27d2-49c7-d35b-ed777134c6e2"
      },
      "execution_count": 43,
      "outputs": [
        {
          "output_type": "execute_result",
          "data": {
            "text/plain": [
              "Fraction(33, 16660)"
            ]
          },
          "metadata": {},
          "execution_count": 43
        }
      ]
    },
    {
      "cell_type": "code",
      "source": [
        "33/16660"
      ],
      "metadata": {
        "colab": {
          "base_uri": "https://localhost:8080/"
        },
        "id": "167nLFvaMZok",
        "outputId": "af48f93f-7b8e-4836-dea5-48019e03f312"
      },
      "execution_count": 44,
      "outputs": [
        {
          "output_type": "execute_result",
          "data": {
            "text/plain": [
              "0.0019807923169267707"
            ]
          },
          "metadata": {},
          "execution_count": 44
        }
      ]
    },
    {
      "cell_type": "code",
      "source": [
        "four_kind = {hand for hand in Hands if any(hand.count(rank) == 4 for rank in ranks)}\n",
        "\n",
        "P(four_kind, Hands)"
      ],
      "metadata": {
        "colab": {
          "base_uri": "https://localhost:8080/"
        },
        "id": "WlmRamNEMev2",
        "outputId": "e423b4be-9372-4411-98f1-9ae3073ec702"
      },
      "execution_count": 46,
      "outputs": [
        {
          "output_type": "execute_result",
          "data": {
            "text/plain": [
              "Fraction(1, 4165)"
            ]
          },
          "metadata": {},
          "execution_count": 46
        }
      ]
    },
    {
      "cell_type": "code",
      "source": [
        "1/4165"
      ],
      "metadata": {
        "colab": {
          "base_uri": "https://localhost:8080/"
        },
        "id": "BSCGn02dMoV9",
        "outputId": "7d539ee9-ef2f-493b-fbde-34d95bf3a093"
      },
      "execution_count": 47,
      "outputs": [
        {
          "output_type": "execute_result",
          "data": {
            "text/plain": [
              "0.00024009603841536616"
            ]
          },
          "metadata": {},
          "execution_count": 47
        }
      ]
    },
    {
      "cell_type": "markdown",
      "source": [
        "## Urn Problems\n"
      ],
      "metadata": {
        "id": "CChLp715M2rH"
      }
    },
    {
      "cell_type": "code",
      "source": [
        "def balls(color, n):\n",
        "    \"A set of n numbered balls of the given color.\"\n",
        "    return {color + str(i)\n",
        "            for i in range(1, n + 1)}\n",
        "\n",
        "urn = balls('B', 6) | balls('R', 9) | balls('W', 8)\n",
        "urn"
      ],
      "metadata": {
        "colab": {
          "base_uri": "https://localhost:8080/"
        },
        "id": "09reNF_gM5QO",
        "outputId": "8d87d6d1-ebd7-446a-d9ba-e76528f33a43"
      },
      "execution_count": 48,
      "outputs": [
        {
          "output_type": "execute_result",
          "data": {
            "text/plain": [
              "{'B1',\n",
              " 'B2',\n",
              " 'B3',\n",
              " 'B4',\n",
              " 'B5',\n",
              " 'B6',\n",
              " 'R1',\n",
              " 'R2',\n",
              " 'R3',\n",
              " 'R4',\n",
              " 'R5',\n",
              " 'R6',\n",
              " 'R7',\n",
              " 'R8',\n",
              " 'R9',\n",
              " 'W1',\n",
              " 'W2',\n",
              " 'W3',\n",
              " 'W4',\n",
              " 'W5',\n",
              " 'W6',\n",
              " 'W7',\n",
              " 'W8'}"
            ]
          },
          "metadata": {},
          "execution_count": 48
        }
      ]
    },
    {
      "cell_type": "code",
      "source": [
        "len(urn)"
      ],
      "metadata": {
        "colab": {
          "base_uri": "https://localhost:8080/"
        },
        "id": "UPxriZsONQ18",
        "outputId": "8615400d-8ec6-4b64-a827-34dccb19b798"
      },
      "execution_count": 49,
      "outputs": [
        {
          "output_type": "execute_result",
          "data": {
            "text/plain": [
              "23"
            ]
          },
          "metadata": {},
          "execution_count": 49
        }
      ]
    },
    {
      "cell_type": "code",
      "source": [
        "U6 = combos(urn, 6)\n",
        "\n",
        "random.sample(U6, 5)"
      ],
      "metadata": {
        "colab": {
          "base_uri": "https://localhost:8080/"
        },
        "id": "pLstUI_zNTlb",
        "outputId": "76193c4c-ecfd-4d81-fce0-0b7f30e67ff8"
      },
      "execution_count": 50,
      "outputs": [
        {
          "output_type": "stream",
          "name": "stderr",
          "text": [
            "<ipython-input-50-e10fc16882c3>:3: DeprecationWarning: Sampling from a set deprecated\n",
            "since Python 3.9 and will be removed in a subsequent version.\n",
            "  random.sample(U6, 5)\n"
          ]
        },
        {
          "output_type": "execute_result",
          "data": {
            "text/plain": [
              "['R1 W4 R5 B3 B1 B4',\n",
              " 'R1 R3 R7 R9 W2 R8',\n",
              " 'W8 W1 R2 B1 B4 B6',\n",
              " 'R6 W8 W4 R5 R9 B3',\n",
              " 'R3 W5 R5 R2 B6 R8']"
            ]
          },
          "metadata": {},
          "execution_count": 50
        }
      ]
    },
    {
      "cell_type": "code",
      "source": [
        "def select(color, n, space=U6):\n",
        "    \"The subset of the sample space with exactly `n` balls of given `color`.\"\n",
        "    return {s for s in space if s.count(color) == n}"
      ],
      "metadata": {
        "id": "nrWnW7_pNdZD"
      },
      "execution_count": 51,
      "outputs": []
    },
    {
      "cell_type": "code",
      "source": [
        "P(select('R', 6), U6)"
      ],
      "metadata": {
        "colab": {
          "base_uri": "https://localhost:8080/"
        },
        "id": "cQ1StSx0NfZM",
        "outputId": "4478798a-bd2b-4313-f5b4-b98764832390"
      },
      "execution_count": 53,
      "outputs": [
        {
          "output_type": "execute_result",
          "data": {
            "text/plain": [
              "Fraction(4, 4807)"
            ]
          },
          "metadata": {},
          "execution_count": 53
        }
      ]
    },
    {
      "cell_type": "code",
      "source": [
        "4/4807"
      ],
      "metadata": {
        "colab": {
          "base_uri": "https://localhost:8080/"
        },
        "id": "mIjZbZigNkKK",
        "outputId": "d6fbe08a-8596-4f46-9d05-c265d695a81c"
      },
      "execution_count": 57,
      "outputs": [
        {
          "output_type": "execute_result",
          "data": {
            "text/plain": [
              "0.08321198252548366"
            ]
          },
          "metadata": {},
          "execution_count": 57
        }
      ]
    },
    {
      "cell_type": "code",
      "source": [
        "P(select('B', 3) & select('R', 1) & select('W', 2), U6)"
      ],
      "metadata": {
        "colab": {
          "base_uri": "https://localhost:8080/"
        },
        "id": "SQVDnOg2Nslw",
        "outputId": "0c2fc990-d97e-47fe-8965-1e0eac7af2b3"
      },
      "execution_count": 58,
      "outputs": [
        {
          "output_type": "execute_result",
          "data": {
            "text/plain": [
              "Fraction(240, 4807)"
            ]
          },
          "metadata": {},
          "execution_count": 58
        }
      ]
    },
    {
      "cell_type": "code",
      "source": [
        "P(select('W', 4), U6)"
      ],
      "metadata": {
        "colab": {
          "base_uri": "https://localhost:8080/"
        },
        "id": "kEkE2IDFN22g",
        "outputId": "5539a1f9-a163-43d2-a0fe-84a16ea544a3"
      },
      "execution_count": 59,
      "outputs": [
        {
          "output_type": "execute_result",
          "data": {
            "text/plain": [
              "Fraction(350, 4807)"
            ]
          },
          "metadata": {},
          "execution_count": 59
        }
      ]
    },
    {
      "cell_type": "markdown",
      "source": [
        "## Urn Problems via arithmetic"
      ],
      "metadata": {
        "id": "EPQL99k7OLA2"
      }
    },
    {
      "cell_type": "markdown",
      "source": [
        "In general, the number of ways of choosing c out of n items is (n choose c) = n! / ((n - c) * c!)."
      ],
      "metadata": {
        "id": "Sz6SrU99O3mO"
      }
    },
    {
      "cell_type": "code",
      "source": [
        "from math import factorial\n",
        "\n",
        "def choose(n, c):\n",
        "  \"Number of ways to choose c items from a list of n items\"\n",
        "  return factorial(n) // (factorial(n - c) * factorial(c))"
      ],
      "metadata": {
        "id": "DIb9es1_OOHk"
      },
      "execution_count": 60,
      "outputs": []
    },
    {
      "cell_type": "code",
      "source": [
        "choose(9, 6)"
      ],
      "metadata": {
        "colab": {
          "base_uri": "https://localhost:8080/"
        },
        "id": "FofvVL96OiUX",
        "outputId": "733cd8c0-3959-4667-837c-e8721c083480"
      },
      "execution_count": 61,
      "outputs": [
        {
          "output_type": "execute_result",
          "data": {
            "text/plain": [
              "84"
            ]
          },
          "metadata": {},
          "execution_count": 61
        }
      ]
    },
    {
      "cell_type": "markdown",
      "source": [
        "P computes a ratio and choose computes a count. So we multiply the left-hand-side by N, the lenght of the sample space, to make both sides be counts."
      ],
      "metadata": {
        "id": "PYnbAd9pPmwf"
      }
    },
    {
      "cell_type": "code",
      "source": [
        "N = len(U6)\n",
        "\n",
        "N * P(select('R', 6), U6) == choose(9, 6)"
      ],
      "metadata": {
        "colab": {
          "base_uri": "https://localhost:8080/"
        },
        "id": "bP_QWZ9SPLDE",
        "outputId": "2b3c0987-7418-47e2-e972-2594e3d3138f"
      },
      "execution_count": 62,
      "outputs": [
        {
          "output_type": "execute_result",
          "data": {
            "text/plain": [
              "True"
            ]
          },
          "metadata": {},
          "execution_count": 62
        }
      ]
    },
    {
      "cell_type": "code",
      "source": [
        "N * P(select('B', 3) & select('W', 2) & select('R', 1), U6) == choose(6, 3) * choose(8, 2) * choose(9, 1)"
      ],
      "metadata": {
        "colab": {
          "base_uri": "https://localhost:8080/"
        },
        "id": "pPAvEpAhQj7o",
        "outputId": "cffab4c5-c3dc-4e31-8383-864f27ec92ff"
      },
      "execution_count": 63,
      "outputs": [
        {
          "output_type": "execute_result",
          "data": {
            "text/plain": [
              "True"
            ]
          },
          "metadata": {},
          "execution_count": 63
        }
      ]
    },
    {
      "cell_type": "code",
      "source": [
        "N * P(select('W', 4), U6) == choose(8, 4) * choose(6 + 9, 2)\n",
        "# (6 + 9 non-white balls)"
      ],
      "metadata": {
        "colab": {
          "base_uri": "https://localhost:8080/"
        },
        "id": "Wf4m8TE4Q4-i",
        "outputId": "b5afd65d-f583-4641-8de8-3f3619ba35ff"
      },
      "execution_count": 64,
      "outputs": [
        {
          "output_type": "execute_result",
          "data": {
            "text/plain": [
              "True"
            ]
          },
          "metadata": {},
          "execution_count": 64
        }
      ]
    },
    {
      "cell_type": "markdown",
      "source": [
        "## Non-Equiprobable Outcomes"
      ],
      "metadata": {
        "id": "9x8dse2JRCfH"
      }
    }
  ]
}