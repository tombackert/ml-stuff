{
  "nbformat": 4,
  "nbformat_minor": 0,
  "metadata": {
    "colab": {
      "provenance": [],
      "authorship_tag": "ABX9TyOUMPH0iveufb1maY9tI0wX",
      "include_colab_link": true
    },
    "kernelspec": {
      "name": "python3",
      "display_name": "Python 3"
    },
    "language_info": {
      "name": "python"
    }
  },
  "cells": [
    {
      "cell_type": "markdown",
      "metadata": {
        "id": "view-in-github",
        "colab_type": "text"
      },
      "source": [
        "<a href=\"https://colab.research.google.com/github/tombackert/ml-stuff/blob/main/linear_algebra.ipynb\" target=\"_parent\"><img src=\"https://colab.research.google.com/assets/colab-badge.svg\" alt=\"Open In Colab\"/></a>"
      ]
    },
    {
      "cell_type": "code",
      "execution_count": null,
      "metadata": {
        "id": "B9EpPQqYWplq"
      },
      "outputs": [],
      "source": [
        "import numpy as np\n",
        "import matplotlib.pyplot as plt\n",
        "%matplotlib inline"
      ]
    },
    {
      "cell_type": "code",
      "source": [
        "A = np.array([[1, 0, 0],\n",
        "              [0, 1, 0],\n",
        "              [0, 0, 1]])\n",
        "\n",
        "B = np.array([[1, 2, 3],\n",
        "              [4, 5, 6],\n",
        "              [7, 8, 9]])"
      ],
      "metadata": {
        "id": "rd8HQWDqW27q"
      },
      "execution_count": null,
      "outputs": []
    },
    {
      "cell_type": "code",
      "source": [
        "A * B"
      ],
      "metadata": {
        "colab": {
          "base_uri": "https://localhost:8080/"
        },
        "id": "onXTrOsmbLji",
        "outputId": "75143716-5236-44b9-e252-732e605fa22d"
      },
      "execution_count": null,
      "outputs": [
        {
          "output_type": "execute_result",
          "data": {
            "text/plain": [
              "array([[1, 0, 0],\n",
              "       [0, 5, 0],\n",
              "       [0, 0, 9]])"
            ]
          },
          "metadata": {},
          "execution_count": 11
        }
      ]
    },
    {
      "cell_type": "code",
      "source": [
        "A + B"
      ],
      "metadata": {
        "colab": {
          "base_uri": "https://localhost:8080/"
        },
        "id": "UiJKaEGpbNnu",
        "outputId": "49d03a72-2dfc-4d66-95fe-780b431b1353"
      },
      "execution_count": null,
      "outputs": [
        {
          "output_type": "execute_result",
          "data": {
            "text/plain": [
              "array([[ 2,  2,  3],\n",
              "       [ 4,  6,  6],\n",
              "       [ 7,  8, 10]])"
            ]
          },
          "metadata": {},
          "execution_count": 13
        }
      ]
    },
    {
      "cell_type": "code",
      "source": [
        "# transposing a matrix\n",
        "C1 = np.array([[2, 2],\n",
        "               [3, 3],\n",
        "               [4, 4]])\n",
        "\n",
        "C2 = np.array([[2, 2, 2],\n",
        "               [3, 3, 3]])"
      ],
      "metadata": {
        "id": "Y73-wlwlbPKK"
      },
      "execution_count": null,
      "outputs": []
    },
    {
      "cell_type": "code",
      "source": [
        "C1, C2"
      ],
      "metadata": {
        "colab": {
          "base_uri": "https://localhost:8080/"
        },
        "id": "Tz98il9xdvt5",
        "outputId": "fa752bbd-4bc5-4ed8-f7d2-653b896168ef"
      },
      "execution_count": null,
      "outputs": [
        {
          "output_type": "execute_result",
          "data": {
            "text/plain": [
              "(array([[2, 2],\n",
              "        [3, 3],\n",
              "        [4, 4]]),\n",
              " array([[2, 2, 2],\n",
              "        [3, 3, 3]]))"
            ]
          },
          "metadata": {},
          "execution_count": 50
        }
      ]
    },
    {
      "cell_type": "code",
      "source": [
        "C1.T, C2.T"
      ],
      "metadata": {
        "colab": {
          "base_uri": "https://localhost:8080/"
        },
        "id": "kf-tTR5PdzOn",
        "outputId": "b378a3c5-00e1-463b-f9c1-e5f13f58cf3d"
      },
      "execution_count": null,
      "outputs": [
        {
          "output_type": "execute_result",
          "data": {
            "text/plain": [
              "(array([[2, 3, 4],\n",
              "        [2, 3, 4]]),\n",
              " array([[2, 3],\n",
              "        [2, 3],\n",
              "        [2, 3]]))"
            ]
          },
          "metadata": {},
          "execution_count": 51
        }
      ]
    },
    {
      "cell_type": "code",
      "source": [
        "# transposing a vector\n",
        "# vector = matrix with onely one column\n",
        "v1 = np.array([1, 2, 3])\n",
        "v2 = np.array([[1],\n",
        "               [2],\n",
        "               [3]])"
      ],
      "metadata": {
        "id": "lA2_c_excpQZ"
      },
      "execution_count": null,
      "outputs": []
    },
    {
      "cell_type": "code",
      "source": [
        "v1, v2"
      ],
      "metadata": {
        "colab": {
          "base_uri": "https://localhost:8080/"
        },
        "id": "ZFHa2LaTd3Ub",
        "outputId": "970e4373-f9ee-4104-cfe5-ec62aaa55a3c"
      },
      "execution_count": null,
      "outputs": [
        {
          "output_type": "execute_result",
          "data": {
            "text/plain": [
              "(array([1, 2, 3]),\n",
              " array([[1],\n",
              "        [2],\n",
              "        [3]]))"
            ]
          },
          "metadata": {},
          "execution_count": 53
        }
      ]
    },
    {
      "cell_type": "code",
      "source": [
        "v1.T, v2.T"
      ],
      "metadata": {
        "colab": {
          "base_uri": "https://localhost:8080/"
        },
        "id": "OC8btK5md5bq",
        "outputId": "1e6150cc-819e-49ae-cb31-25a64d38d3f9"
      },
      "execution_count": null,
      "outputs": [
        {
          "output_type": "execute_result",
          "data": {
            "text/plain": [
              "(array([1, 2, 3]), array([[1, 2, 3]]))"
            ]
          },
          "metadata": {},
          "execution_count": 54
        }
      ]
    },
    {
      "cell_type": "code",
      "source": [
        "# scalar multiplikation\n",
        "# scalar = matrix with only one entry\n",
        "a1 = np.array([2])\n",
        "a2 = np.array([2])\n",
        "a1.T"
      ],
      "metadata": {
        "colab": {
          "base_uri": "https://localhost:8080/"
        },
        "id": "NkQ_kqT0eDCm",
        "outputId": "3f9edf27-9929-4fb0-a434-0bbb73840819"
      },
      "execution_count": null,
      "outputs": [
        {
          "output_type": "execute_result",
          "data": {
            "text/plain": [
              "array([2])"
            ]
          },
          "metadata": {},
          "execution_count": 63
        }
      ]
    },
    {
      "cell_type": "code",
      "source": [
        "A = np.array([[1, 0, 0],\n",
        "              [0, 1, 0],\n",
        "              [0, 0, 1]])\n",
        "\n",
        "B = np.array([[1, 2, 3],\n",
        "              [4, 5, 6],\n",
        "              [7, 8, 9]])"
      ],
      "metadata": {
        "id": "gehD-hjDeqBe"
      },
      "execution_count": null,
      "outputs": []
    },
    {
      "cell_type": "code",
      "source": [
        "C = A + B\n",
        "C"
      ],
      "metadata": {
        "colab": {
          "base_uri": "https://localhost:8080/"
        },
        "id": "I1b9ZAP8eyN9",
        "outputId": "d5954941-9478-43c4-a51b-5827d8854f71"
      },
      "execution_count": null,
      "outputs": [
        {
          "output_type": "execute_result",
          "data": {
            "text/plain": [
              "array([[ 2,  2,  3],\n",
              "       [ 4,  6,  6],\n",
              "       [ 7,  8, 10]])"
            ]
          },
          "metadata": {},
          "execution_count": 61
        }
      ]
    },
    {
      "cell_type": "code",
      "source": [
        "D = a1 * B + a2\n",
        "D"
      ],
      "metadata": {
        "colab": {
          "base_uri": "https://localhost:8080/"
        },
        "id": "trZZhO6Je5Bq",
        "outputId": "6462eceb-ad77-44a1-b3a3-f4d41b92471b"
      },
      "execution_count": null,
      "outputs": [
        {
          "output_type": "execute_result",
          "data": {
            "text/plain": [
              "array([[ 4,  6,  8],\n",
              "       [10, 12, 14],\n",
              "       [16, 18, 20]])"
            ]
          },
          "metadata": {},
          "execution_count": 64
        }
      ]
    },
    {
      "cell_type": "code",
      "source": [
        "# Multiplying Matrices and Vectors\n",
        "E3 = np.array([[1, 0, 0],\n",
        "              [0, 1, 0],\n",
        "              [0, 0, 1]])\n",
        "\n",
        "A = np.array([[1, 1, 1],\n",
        "              [1, 1, 1],\n",
        "              [1, 1, 1]])\n",
        "\n",
        "B = np.array([[1, 2, 3],\n",
        "              [4, 5, 6],\n",
        "              [7, 8, 9]])"
      ],
      "metadata": {
        "id": "Hoh6wX6Bftwk"
      },
      "execution_count": null,
      "outputs": []
    },
    {
      "cell_type": "code",
      "source": [
        "C1 = A * B\n",
        "C2 = E3 * B\n",
        "C1, C2"
      ],
      "metadata": {
        "colab": {
          "base_uri": "https://localhost:8080/"
        },
        "id": "hUAcYBtrf6hN",
        "outputId": "d5af7c41-fb36-42cd-fb0a-22aaec204e28"
      },
      "execution_count": null,
      "outputs": [
        {
          "output_type": "execute_result",
          "data": {
            "text/plain": [
              "(array([[1, 2, 3],\n",
              "        [4, 5, 6],\n",
              "        [7, 8, 9]]),\n",
              " array([[1, 0, 0],\n",
              "        [0, 5, 0],\n",
              "        [0, 0, 9]]))"
            ]
          },
          "metadata": {},
          "execution_count": 69
        }
      ]
    },
    {
      "cell_type": "code",
      "source": [
        "#3 x 3\n",
        "A = np.array([[1, 1, 1],\n",
        "              [1, 1, 1],\n",
        "              [1, 1, 1]])\n",
        "\n",
        "A2 = np.array([[2, 2, 2],\n",
        "               [2, 2, 2],\n",
        "               [2, 2, 2]])\n",
        "\n",
        "A3 = np.array([[3, 3, 3],\n",
        "               [3, 3, 3],\n",
        "               [3, 3, 3]])\n",
        "\n",
        "#2 x 3\n",
        "B1 = np.array([[1, 2, 3],\n",
        "               [4, 5, 6]])\n",
        "\n",
        "#3 x 2\n",
        "B2 = np.array([[1, 2],\n",
        "               [4, 5],\n",
        "               [7, 8]])\n",
        "\n",
        "C = np.array([[2, 2, 2],\n",
        "              [3, 3, 3],\n",
        "              [4, 4, 4]])\n",
        "\n",
        "C2 = np.array([[2, 3, 4],\n",
        "               [2, 3, 4],\n",
        "               [2, 3, 4]])\n"
      ],
      "metadata": {
        "id": "xDE8ywCHgSeZ"
      },
      "execution_count": null,
      "outputs": []
    },
    {
      "cell_type": "code",
      "source": [
        "C.T"
      ],
      "metadata": {
        "colab": {
          "base_uri": "https://localhost:8080/"
        },
        "id": "MqI-6qEkm0aj",
        "outputId": "890cb080-d8b7-4e7a-f30c-c735c8f01f6d"
      },
      "execution_count": null,
      "outputs": [
        {
          "output_type": "execute_result",
          "data": {
            "text/plain": [
              "array([[2, 3, 4],\n",
              "       [2, 3, 4],\n",
              "       [2, 3, 4]])"
            ]
          },
          "metadata": {},
          "execution_count": 114
        }
      ]
    },
    {
      "cell_type": "code",
      "source": [
        "# m x n @ n x p -> m x p\n",
        "C = A @ B2 # 3 x 3 @ 3 x 2 -> 3 x 2\n",
        "C"
      ],
      "metadata": {
        "colab": {
          "base_uri": "https://localhost:8080/"
        },
        "id": "P2FlzdyXgj3m",
        "outputId": "ee61ecc3-36e0-43b5-b178-196663e214ff"
      },
      "execution_count": null,
      "outputs": [
        {
          "output_type": "execute_result",
          "data": {
            "text/plain": [
              "array([[12, 15],\n",
              "       [12, 15],\n",
              "       [12, 15]])"
            ]
          },
          "metadata": {},
          "execution_count": 88
        }
      ]
    },
    {
      "cell_type": "code",
      "source": [
        "# dot product\n",
        "x = np.array([1, 1, 1])\n",
        "\n",
        "y = np.array([1, 4, 7])\n",
        "y2 = np.array([2, 5, 8])\n",
        "\n",
        "dot_product1 = np.dot(x, y)\n",
        "dot_product2 = np.dot(x, y2)\n",
        "\n",
        "dot_product1, dot_product2"
      ],
      "metadata": {
        "colab": {
          "base_uri": "https://localhost:8080/"
        },
        "id": "uo9pfPOCjisl",
        "outputId": "01542c65-a039-4376-d715-05e5f6cf9d6a"
      },
      "execution_count": null,
      "outputs": [
        {
          "output_type": "execute_result",
          "data": {
            "text/plain": [
              "(12, 15)"
            ]
          },
          "metadata": {},
          "execution_count": 100
        }
      ]
    },
    {
      "cell_type": "code",
      "source": [
        "# matrix mul is distributive\n",
        "D1 = A2 @ (A + A3)\n",
        "D2 = A2 @ A + A2 @ A3\n",
        "D1, D2"
      ],
      "metadata": {
        "colab": {
          "base_uri": "https://localhost:8080/"
        },
        "id": "-s1lFNA2lF3N",
        "outputId": "5e8d5d43-3e84-4113-f9e9-96efb224d704"
      },
      "execution_count": null,
      "outputs": [
        {
          "output_type": "execute_result",
          "data": {
            "text/plain": [
              "(array([[24, 24, 24],\n",
              "        [24, 24, 24],\n",
              "        [24, 24, 24]]),\n",
              " array([[24, 24, 24],\n",
              "        [24, 24, 24],\n",
              "        [24, 24, 24]]))"
            ]
          },
          "metadata": {},
          "execution_count": 104
        }
      ]
    },
    {
      "cell_type": "code",
      "source": [
        "# matrix mul is associative\n",
        "D1 = A2 @ (A @ A3)\n",
        "D2 = (A2 @ A) @ A3\n",
        "D1, D2"
      ],
      "metadata": {
        "colab": {
          "base_uri": "https://localhost:8080/"
        },
        "id": "T10Gx4pklnRq",
        "outputId": "3b8684b3-dcda-4e51-c1c0-504fb59a893d"
      },
      "execution_count": null,
      "outputs": [
        {
          "output_type": "execute_result",
          "data": {
            "text/plain": [
              "(array([[54, 54, 54],\n",
              "        [54, 54, 54],\n",
              "        [54, 54, 54]]),\n",
              " array([[54, 54, 54],\n",
              "        [54, 54, 54],\n",
              "        [54, 54, 54]]))"
            ]
          },
          "metadata": {},
          "execution_count": 105
        }
      ]
    },
    {
      "cell_type": "code",
      "source": [
        "# matrix mul is not commutative\n",
        "D1 = C @ C2\n",
        "D2 = C2 @ C\n",
        "D1, D2"
      ],
      "metadata": {
        "colab": {
          "base_uri": "https://localhost:8080/"
        },
        "id": "1tnhEle0l_GY",
        "outputId": "1c08d802-28ce-48ed-c25a-2a64508480c0"
      },
      "execution_count": null,
      "outputs": [
        {
          "output_type": "execute_result",
          "data": {
            "text/plain": [
              "(array([[12, 18, 24],\n",
              "        [18, 27, 36],\n",
              "        [24, 36, 48]]),\n",
              " array([[29, 29, 29],\n",
              "        [29, 29, 29],\n",
              "        [29, 29, 29]]))"
            ]
          },
          "metadata": {},
          "execution_count": 113
        }
      ]
    },
    {
      "cell_type": "code",
      "source": [
        "# Identity and Inverse Matrix\n",
        "D = np.array([[1, 0, 0],\n",
        "              [0, 2, 0],\n",
        "              [0, 0, 4]])"
      ],
      "metadata": {
        "id": "5Sjflagcnb5E"
      },
      "execution_count": 175,
      "outputs": []
    },
    {
      "cell_type": "code",
      "source": [
        "# determinat\n",
        "det_D = np.linalg.det(D)\n",
        "det_D"
      ],
      "metadata": {
        "colab": {
          "base_uri": "https://localhost:8080/"
        },
        "id": "MQhCxffntU47",
        "outputId": "2d616168-db63-4fb3-f4cc-f0e60ff7a043"
      },
      "execution_count": 162,
      "outputs": [
        {
          "output_type": "execute_result",
          "data": {
            "text/plain": [
              "7.999999999999998"
            ]
          },
          "metadata": {},
          "execution_count": 162
        }
      ]
    },
    {
      "cell_type": "code",
      "source": [
        "# inverse\n",
        "D_inv = np.linalg.inv(D)\n",
        "D_inv"
      ],
      "metadata": {
        "colab": {
          "base_uri": "https://localhost:8080/"
        },
        "id": "fcLZ7iaTtd3F",
        "outputId": "5780ad74-4e26-491f-86c8-a5055cd071f1"
      },
      "execution_count": 181,
      "outputs": [
        {
          "output_type": "execute_result",
          "data": {
            "text/plain": [
              "array([[1.  , 0.  , 0.  ],\n",
              "       [0.  , 0.5 , 0.  ],\n",
              "       [0.  , 0.  , 0.25]])"
            ]
          },
          "metadata": {},
          "execution_count": 181
        }
      ]
    },
    {
      "cell_type": "code",
      "source": [
        "# D_inv @ D -> I\n",
        "I = D_inv @ D\n",
        "I"
      ],
      "metadata": {
        "colab": {
          "base_uri": "https://localhost:8080/"
        },
        "id": "zwrw4V0evWy6",
        "outputId": "5881ee49-03d4-4ea4-f74a-9cdf424e39e3"
      },
      "execution_count": 180,
      "outputs": [
        {
          "output_type": "execute_result",
          "data": {
            "text/plain": [
              "array([[1., 0., 0.],\n",
              "       [0., 1., 0.],\n",
              "       [0., 0., 1.]])"
            ]
          },
          "metadata": {},
          "execution_count": 180
        }
      ]
    },
    {
      "cell_type": "code",
      "source": [
        "# linear dependency\n",
        "B = np.matrix([[1, 2, 3],\n",
        "               [4, 5, 6],\n",
        "               [7, 8, 9]])\n",
        "B.shape"
      ],
      "metadata": {
        "colab": {
          "base_uri": "https://localhost:8080/"
        },
        "id": "THYgGtF3nqyn",
        "outputId": "e9784779-ebd2-4def-cae3-ed046495ba44"
      },
      "execution_count": 146,
      "outputs": [
        {
          "output_type": "execute_result",
          "data": {
            "text/plain": [
              "(3, 3)"
            ]
          },
          "metadata": {},
          "execution_count": 146
        }
      ]
    },
    {
      "cell_type": "code",
      "source": [
        "# A matrix is considered to have linearly dependent rows if its rank is less than the number of rows.\n",
        "np.linalg.matrix_rank(B) # rank of B is 2 < number of rows -> linear dependency since one row can be represented as a linear combination of the other two"
      ],
      "metadata": {
        "colab": {
          "base_uri": "https://localhost:8080/"
        },
        "id": "z4OAnYqpsDqZ",
        "outputId": "c1369ca8-b2ae-4092-ed26-f90e14a98beb"
      },
      "execution_count": 147,
      "outputs": [
        {
          "output_type": "execute_result",
          "data": {
            "text/plain": [
              "2"
            ]
          },
          "metadata": {},
          "execution_count": 147
        }
      ]
    }
  ]
}