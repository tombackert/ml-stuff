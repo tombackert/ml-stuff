{
  "nbformat": 4,
  "nbformat_minor": 0,
  "metadata": {
    "colab": {
      "provenance": [],
      "authorship_tag": "ABX9TyMfH2MkD4i+nTvJ426Mgn/w",
      "include_colab_link": true
    },
    "kernelspec": {
      "name": "python3",
      "display_name": "Python 3"
    },
    "language_info": {
      "name": "python"
    }
  },
  "cells": [
    {
      "cell_type": "markdown",
      "metadata": {
        "id": "view-in-github",
        "colab_type": "text"
      },
      "source": [
        "<a href=\"https://colab.research.google.com/github/tombackert/ml-stuff/blob/main/linear_algebra.ipynb\" target=\"_parent\"><img src=\"https://colab.research.google.com/assets/colab-badge.svg\" alt=\"Open In Colab\"/></a>"
      ]
    },
    {
      "cell_type": "markdown",
      "source": [
        "# Linear Algebra (for Deep-Learning)"
      ],
      "metadata": {
        "id": "Zd7RXf4UK4zR"
      }
    },
    {
      "cell_type": "code",
      "execution_count": 2,
      "metadata": {
        "id": "B9EpPQqYWplq"
      },
      "outputs": [],
      "source": [
        "import numpy as np\n",
        "import matplotlib.pyplot as plt\n",
        "%matplotlib inline"
      ]
    },
    {
      "cell_type": "markdown",
      "source": [
        "### 2.1 Scalars, Vectors, Matrices and Tensors"
      ],
      "metadata": {
        "id": "aaSMv-luKbIN"
      }
    },
    {
      "cell_type": "code",
      "source": [
        "# Scalars\n",
        "a1 = np.array([2])\n",
        "a2 = np.array([2])\n",
        "a1.T"
      ],
      "metadata": {
        "id": "ljfIimhvKSyW"
      },
      "execution_count": null,
      "outputs": []
    },
    {
      "cell_type": "code",
      "source": [
        "# Vectors (array of numbers)\n",
        "v1 = np.array([1, 2, 3])\n",
        "v2 = np.array([[1],\n",
        "               [2],\n",
        "               [3]])"
      ],
      "metadata": {
        "id": "cKDJEkuBLZ5q"
      },
      "execution_count": 20,
      "outputs": []
    },
    {
      "cell_type": "code",
      "source": [
        "# Tranposing a vector\n",
        "# vector = matrix with onely one column\n",
        "v1, v1.T"
      ],
      "metadata": {
        "colab": {
          "base_uri": "https://localhost:8080/"
        },
        "id": "W8oOgs4PMDI-",
        "outputId": "b98ee5b2-7fad-4249-d1ca-20cfcc9eadcc"
      },
      "execution_count": 26,
      "outputs": [
        {
          "output_type": "execute_result",
          "data": {
            "text/plain": [
              "(array([1, 2, 3]), array([1, 2, 3]))"
            ]
          },
          "metadata": {},
          "execution_count": 26
        }
      ]
    },
    {
      "cell_type": "code",
      "source": [
        "v2, v2.T"
      ],
      "metadata": {
        "colab": {
          "base_uri": "https://localhost:8080/"
        },
        "id": "mvsetpX_MFCW",
        "outputId": "0ac7cf7e-011f-4316-d86d-220fff2d6e75"
      },
      "execution_count": 25,
      "outputs": [
        {
          "output_type": "execute_result",
          "data": {
            "text/plain": [
              "(array([[1],\n",
              "        [2],\n",
              "        [3]]),\n",
              " array([[1, 2, 3]]))"
            ]
          },
          "metadata": {},
          "execution_count": 25
        }
      ]
    },
    {
      "cell_type": "code",
      "source": [
        "# Matrix (2-D array of numbers)\n",
        "A = np.array([[2, 2],\n",
        "              [3, 3],\n",
        "              [4, 4]])\n",
        "\n",
        "B = np.array([[2, 2, 2],\n",
        "              [3, 3, 3]])\n",
        "\n",
        "A, B"
      ],
      "metadata": {
        "id": "rd8HQWDqW27q",
        "colab": {
          "base_uri": "https://localhost:8080/"
        },
        "outputId": "7d5959d8-95f9-41ba-de11-2719f19da809"
      },
      "execution_count": 29,
      "outputs": [
        {
          "output_type": "execute_result",
          "data": {
            "text/plain": [
              "(array([[2, 2],\n",
              "        [3, 3],\n",
              "        [4, 4]]),\n",
              " array([[2, 2, 2],\n",
              "        [3, 3, 3]]))"
            ]
          },
          "metadata": {},
          "execution_count": 29
        }
      ]
    },
    {
      "cell_type": "code",
      "source": [
        "# Transposing a matrix (Mirror image across the main diagonal line)\n",
        "A.T, B.T"
      ],
      "metadata": {
        "colab": {
          "base_uri": "https://localhost:8080/"
        },
        "id": "z-1WF5NIMxMo",
        "outputId": "fc13763a-74a8-4c57-e5e6-73f68aceccba"
      },
      "execution_count": 31,
      "outputs": [
        {
          "output_type": "execute_result",
          "data": {
            "text/plain": [
              "(array([[2, 3, 4],\n",
              "        [2, 3, 4]]),\n",
              " array([[2, 3],\n",
              "        [2, 3],\n",
              "        [2, 3]]))"
            ]
          },
          "metadata": {},
          "execution_count": 31
        }
      ]
    },
    {
      "cell_type": "code",
      "source": [
        "# matrices with shape (3, 3)\n",
        "A = np.array([[1, 1, 1],\n",
        "              [1, 1, 1],\n",
        "              [1, 1, 1]])\n",
        "\n",
        "B = np.array([[1, 2, 3],\n",
        "              [4, 5, 6],\n",
        "              [7, 8, 9]])\n",
        "\n",
        "B2 = np.array([[1, 1, 1],\n",
        "               [2, 2, 2],\n",
        "               [3, 3, 3]])"
      ],
      "metadata": {
        "id": "b4jKXKaiOXcR"
      },
      "execution_count": 38,
      "outputs": []
    },
    {
      "cell_type": "code",
      "source": [
        "# Adding matrices\n",
        "C = A + B\n",
        "C"
      ],
      "metadata": {
        "colab": {
          "base_uri": "https://localhost:8080/"
        },
        "id": "fot4P02ZOKKC",
        "outputId": "d2742593-e35d-4797-8a7d-cf33f97c3404"
      },
      "execution_count": 39,
      "outputs": [
        {
          "output_type": "execute_result",
          "data": {
            "text/plain": [
              "array([[ 2,  3,  4],\n",
              "       [ 5,  6,  7],\n",
              "       [ 8,  9, 10]])"
            ]
          },
          "metadata": {},
          "execution_count": 39
        }
      ]
    },
    {
      "cell_type": "code",
      "source": [
        "a1 = np.array([2])\n",
        "a2 = np.array([3])"
      ],
      "metadata": {
        "id": "or0YpJv_O6BM"
      },
      "execution_count": 41,
      "outputs": []
    },
    {
      "cell_type": "code",
      "source": [
        "# adding or multiplying a matrix by a scaler\n",
        "D1 = a1 * A + a2\n",
        "D2 = a1 * B2 + a2\n",
        "D1, D2"
      ],
      "metadata": {
        "colab": {
          "base_uri": "https://localhost:8080/"
        },
        "id": "OJnM6RWkOuPL",
        "outputId": "4a77d336-0afd-4e88-819c-0dfe1e1bfbe6"
      },
      "execution_count": 47,
      "outputs": [
        {
          "output_type": "execute_result",
          "data": {
            "text/plain": [
              "(array([[5, 5, 5],\n",
              "        [5, 5, 5],\n",
              "        [5, 5, 5]]),\n",
              " array([[5, 5, 5],\n",
              "        [7, 7, 7],\n",
              "        [9, 9, 9]]))"
            ]
          },
          "metadata": {},
          "execution_count": 47
        }
      ]
    },
    {
      "cell_type": "markdown",
      "source": [
        "#### Take aways\n",
        "- vector = matrix containing only one column\n",
        "- transpose of a vector -> matrix with only one row\n",
        "- scalar = matrix with only one entry\n",
        "- scalar is its own transpose\n"
      ],
      "metadata": {
        "id": "-GMzLlGgNkyL"
      }
    },
    {
      "cell_type": "markdown",
      "source": [
        "### 2.2 Multiplying Matrices and Vectors"
      ],
      "metadata": {
        "id": "akQqN9RgKvg5"
      }
    },
    {
      "cell_type": "code",
      "source": [
        "x = np.array([1, 1, 1])\n",
        "\n",
        "y1 = np.array([1, 4, 7])\n",
        "y2 = np.array([2, 5, 8])"
      ],
      "metadata": {
        "id": "uo9pfPOCjisl"
      },
      "execution_count": 60,
      "outputs": []
    },
    {
      "cell_type": "code",
      "source": [
        "# element-wise product\n",
        "element_wise_product1 = x * y1\n",
        "element_wise_product2 = y1 * y2\n",
        "element_wise_product1, element_wise_product2"
      ],
      "metadata": {
        "colab": {
          "base_uri": "https://localhost:8080/"
        },
        "id": "OPd4HuEVRFnM",
        "outputId": "d8ecb847-07c9-4738-ea8a-e9a653232fce"
      },
      "execution_count": 61,
      "outputs": [
        {
          "output_type": "execute_result",
          "data": {
            "text/plain": [
              "(array([1, 4, 7]), array([ 2, 20, 56]))"
            ]
          },
          "metadata": {},
          "execution_count": 61
        }
      ]
    },
    {
      "cell_type": "code",
      "source": [
        "# dot product\n",
        "dot_product1 = np.dot(x, y1)\n",
        "dot_product2 = np.dot(x, y2)\n",
        "\n",
        "dot_product1, dot_product2"
      ],
      "metadata": {
        "colab": {
          "base_uri": "https://localhost:8080/"
        },
        "id": "xZn4JwTfRmIe",
        "outputId": "57c171b0-acbd-4fde-b7f6-c238958a8864"
      },
      "execution_count": 62,
      "outputs": [
        {
          "output_type": "execute_result",
          "data": {
            "text/plain": [
              "(12, 15)"
            ]
          },
          "metadata": {},
          "execution_count": 62
        }
      ]
    },
    {
      "cell_type": "code",
      "source": [
        "dp1 = x @ y1\n",
        "dp2 = x @ y2\n",
        "dp1, dp2"
      ],
      "metadata": {
        "colab": {
          "base_uri": "https://localhost:8080/"
        },
        "id": "VyxxB9POQzDt",
        "outputId": "2378f7ed-e44b-4902-cca8-5a48b8a38987"
      },
      "execution_count": 54,
      "outputs": [
        {
          "output_type": "execute_result",
          "data": {
            "text/plain": [
              "(12, 15)"
            ]
          },
          "metadata": {},
          "execution_count": 54
        }
      ]
    },
    {
      "cell_type": "code",
      "source": [
        "# Multiplying Matrices and Vectors\n",
        "E3 = np.array([[1, 0, 0],\n",
        "               [0, 1, 0],\n",
        "               [0, 0, 1]])\n",
        "\n",
        "E0 = np.array([[1, 1, 1],\n",
        "               [1, 1, 1],\n",
        "               [1, 1, 1]])\n",
        "\n",
        "#3 x 3\n",
        "\n",
        "A1 = np.array([[2, 2, 2],\n",
        "               [2, 2, 2],\n",
        "               [2, 2, 2]])\n",
        "\n",
        "B1 = np.array([[1, 1, 1],\n",
        "               [2, 2, 2],\n",
        "               [3, 3, 3]])\n",
        "\n",
        "B2 = np.array([[2, 3, 4],\n",
        "               [2, 3, 4],\n",
        "               [2, 3, 4]])\n",
        "\n",
        "B3 = np.array([[1, 2, 3],\n",
        "               [4, 5, 6],\n",
        "               [7, 8, 9]])\n"
      ],
      "metadata": {
        "id": "Hoh6wX6Bftwk"
      },
      "execution_count": 65,
      "outputs": []
    },
    {
      "cell_type": "code",
      "source": [
        "# Element-wise product\n",
        "D1 = A1 * B1\n",
        "D2 = E3 * A1\n",
        "D3 = B1 * B3\n",
        "D1, D2, D3"
      ],
      "metadata": {
        "colab": {
          "base_uri": "https://localhost:8080/"
        },
        "id": "hUAcYBtrf6hN",
        "outputId": "d561c894-908a-41db-9cfd-22143170f7fb"
      },
      "execution_count": 66,
      "outputs": [
        {
          "output_type": "execute_result",
          "data": {
            "text/plain": [
              "(array([[2, 2, 2],\n",
              "        [4, 4, 4],\n",
              "        [6, 6, 6]]),\n",
              " array([[2, 0, 0],\n",
              "        [0, 2, 0],\n",
              "        [0, 0, 2]]),\n",
              " array([[ 1,  2,  3],\n",
              "        [ 8, 10, 12],\n",
              "        [21, 24, 27]]))"
            ]
          },
          "metadata": {},
          "execution_count": 66
        }
      ]
    },
    {
      "cell_type": "code",
      "source": [
        "# matrix product = dot product for every element\n",
        "D1 = A1 @ B1\n",
        "D2 = E3 @ A1\n",
        "D3 = B1 @ B3\n",
        "D1, D2, D3"
      ],
      "metadata": {
        "id": "xDE8ywCHgSeZ",
        "colab": {
          "base_uri": "https://localhost:8080/"
        },
        "outputId": "43eac5c4-9f3b-49a2-8ae1-ccf568f7c943"
      },
      "execution_count": 70,
      "outputs": [
        {
          "output_type": "execute_result",
          "data": {
            "text/plain": [
              "(array([[12, 12, 12],\n",
              "        [12, 12, 12],\n",
              "        [12, 12, 12]]),\n",
              " array([[2, 2, 2],\n",
              "        [2, 2, 2],\n",
              "        [2, 2, 2]]),\n",
              " array([[12, 15, 18],\n",
              "        [24, 30, 36],\n",
              "        [36, 45, 54]]))"
            ]
          },
          "metadata": {},
          "execution_count": 70
        }
      ]
    },
    {
      "cell_type": "code",
      "source": [
        "# Multipling matrices of different shape\n",
        "#2 x 3\n",
        "A1 = np.array([[1, 2, 3],\n",
        "               [4, 5, 6]])\n",
        "\n",
        "#3 x 3\n",
        "A2 = np.array([[3, 3, 3],\n",
        "               [3, 3, 3],\n",
        "               [3, 3, 3]])\n",
        "\n",
        "#3 x 2\n",
        "B1 = np.array([[2, 2],\n",
        "               [2, 2],\n",
        "               [2, 2]])\n",
        "\n",
        "#2 x 2\n",
        "B2 = np.array([[1, 2],\n",
        "               [4, 5]])"
      ],
      "metadata": {
        "id": "HPB9JwDDShc7"
      },
      "execution_count": 84,
      "outputs": []
    },
    {
      "cell_type": "code",
      "source": [
        "# m x n @ n x p -> m x p\n",
        "C = A2 @ B1 # 3 x 3 @ 3 x 2 -> 3 x 2\n",
        "C"
      ],
      "metadata": {
        "colab": {
          "base_uri": "https://localhost:8080/"
        },
        "id": "P2FlzdyXgj3m",
        "outputId": "32095c9b-78a0-4736-c39f-059f859bddd0"
      },
      "execution_count": 77,
      "outputs": [
        {
          "output_type": "execute_result",
          "data": {
            "text/plain": [
              "array([[36, 45],\n",
              "       [36, 45],\n",
              "       [36, 45]])"
            ]
          },
          "metadata": {},
          "execution_count": 77
        }
      ]
    },
    {
      "cell_type": "code",
      "source": [
        "C1 = B1 @ B2 # 3 x 2 @ 2 x 2 -> 3 x 2\n",
        "C2 = B2 @ A1 # 2 x 2 @ 2 x 3 -> 2 x 3\n",
        "C3 = B1 @ A1 # 3 x 2 @ 2 x 3 -> 3 x 3\n",
        "C1, C2, C3"
      ],
      "metadata": {
        "colab": {
          "base_uri": "https://localhost:8080/"
        },
        "id": "hQlnhc0dUdqS",
        "outputId": "b6c4998f-96ed-4ec3-c393-d2e02221727a"
      },
      "execution_count": 86,
      "outputs": [
        {
          "output_type": "execute_result",
          "data": {
            "text/plain": [
              "(array([[10, 14],\n",
              "        [10, 14],\n",
              "        [10, 14]]),\n",
              " array([[ 9, 12, 15],\n",
              "        [24, 33, 42]]),\n",
              " array([[10, 14, 18],\n",
              "        [10, 14, 18],\n",
              "        [10, 14, 18]]))"
            ]
          },
          "metadata": {},
          "execution_count": 86
        }
      ]
    },
    {
      "cell_type": "code",
      "source": [
        "#3 x 3\n",
        "A1 = np.array([[2, 2, 2],\n",
        "               [2, 2, 2],\n",
        "               [2, 2, 2]])\n",
        "\n",
        "A2 = np.array([[1, 1, 1],\n",
        "               [2, 2, 2],\n",
        "               [3, 3, 3]])\n",
        "\n",
        "B1 = np.array([[2, 3, 4],\n",
        "               [2, 3, 4],\n",
        "               [2, 3, 4]])\n",
        "\n",
        "B2 = np.array([[1, 2, 3],\n",
        "               [4, 5, 6],\n",
        "               [7, 8, 9]])"
      ],
      "metadata": {
        "id": "pgjGUfipWWSZ"
      },
      "execution_count": 89,
      "outputs": []
    },
    {
      "cell_type": "code",
      "source": [
        "# matrix mul is distributive\n",
        "D1 = A1 @ (B1 + B2)\n",
        "D2 = A1 @ B1 + A1 @ B2\n",
        "D1, D2"
      ],
      "metadata": {
        "colab": {
          "base_uri": "https://localhost:8080/"
        },
        "id": "-s1lFNA2lF3N",
        "outputId": "edf8d4f4-e827-49c8-95d0-27f364ca5fd5"
      },
      "execution_count": 90,
      "outputs": [
        {
          "output_type": "execute_result",
          "data": {
            "text/plain": [
              "(array([[36, 48, 60],\n",
              "        [36, 48, 60],\n",
              "        [36, 48, 60]]),\n",
              " array([[36, 48, 60],\n",
              "        [36, 48, 60],\n",
              "        [36, 48, 60]]))"
            ]
          },
          "metadata": {},
          "execution_count": 90
        }
      ]
    },
    {
      "cell_type": "code",
      "source": [
        "# matrix mul is associative\n",
        "D1 = A2 @ (B1 @ B2)\n",
        "D2 = (A2 @ B1) @ B2\n",
        "D1, D2"
      ],
      "metadata": {
        "colab": {
          "base_uri": "https://localhost:8080/"
        },
        "id": "T10Gx4pklnRq",
        "outputId": "72642efd-b048-4936-9250-d5942f216823"
      },
      "execution_count": 91,
      "outputs": [
        {
          "output_type": "execute_result",
          "data": {
            "text/plain": [
              "(array([[126, 153, 180],\n",
              "        [252, 306, 360],\n",
              "        [378, 459, 540]]),\n",
              " array([[126, 153, 180],\n",
              "        [252, 306, 360],\n",
              "        [378, 459, 540]]))"
            ]
          },
          "metadata": {},
          "execution_count": 91
        }
      ]
    },
    {
      "cell_type": "code",
      "source": [
        "# matrix mul is not commutative\n",
        "D1 = A1 @ A2\n",
        "D2 = A2 @ A1\n",
        "D1, D2"
      ],
      "metadata": {
        "colab": {
          "base_uri": "https://localhost:8080/"
        },
        "id": "1tnhEle0l_GY",
        "outputId": "e7c532c8-17e3-4715-f7db-9f81a8e87a06"
      },
      "execution_count": 92,
      "outputs": [
        {
          "output_type": "execute_result",
          "data": {
            "text/plain": [
              "(array([[12, 12, 12],\n",
              "        [12, 12, 12],\n",
              "        [12, 12, 12]]),\n",
              " array([[ 6,  6,  6],\n",
              "        [12, 12, 12],\n",
              "        [18, 18, 18]]))"
            ]
          },
          "metadata": {},
          "execution_count": 92
        }
      ]
    },
    {
      "cell_type": "code",
      "source": [
        "v1 = np.array([1, 2, 3])\n",
        "v2 = np.array([3, 3, 3])\n",
        "v3 = np.array([[2],\n",
        "               [2],\n",
        "               [2]])\n",
        "v2.T.shape, v2.shape, v3.shape"
      ],
      "metadata": {
        "colab": {
          "base_uri": "https://localhost:8080/"
        },
        "id": "IwiHeE3hXgdz",
        "outputId": "dc606467-af56-41bb-f0ad-3762bca2ea98"
      },
      "execution_count": 108,
      "outputs": [
        {
          "output_type": "execute_result",
          "data": {
            "text/plain": [
              "((3,), (3,), (3, 1))"
            ]
          },
          "metadata": {},
          "execution_count": 108
        }
      ]
    },
    {
      "cell_type": "code",
      "source": [
        "# product between vectors is commutativ\n",
        "d1 = v1.T @ v2 # 1 x 3 @ 3 x 1 -> 1 x 1\n",
        "d2 = v2.T @ v1 # 1 x 3 @ 3 x 1 -> 1 x 1\n",
        "d1, d2"
      ],
      "metadata": {
        "colab": {
          "base_uri": "https://localhost:8080/"
        },
        "id": "xGP_vQsPXWEa",
        "outputId": "448160e5-6846-4f3c-b06b-7b7ebf56e1f6"
      },
      "execution_count": 112,
      "outputs": [
        {
          "output_type": "execute_result",
          "data": {
            "text/plain": [
              "(18, 18)"
            ]
          },
          "metadata": {},
          "execution_count": 112
        }
      ]
    },
    {
      "cell_type": "code",
      "source": [
        "# Transpose of a matrix product\n",
        "T1 = (A1 @ B1).T\n",
        "T2 = B1.T @ A1.T\n",
        "T1, T2"
      ],
      "metadata": {
        "colab": {
          "base_uri": "https://localhost:8080/"
        },
        "id": "KaOQXHECW7k1",
        "outputId": "611333f3-90bb-41da-c4b9-5312d5c89c1a"
      },
      "execution_count": 95,
      "outputs": [
        {
          "output_type": "execute_result",
          "data": {
            "text/plain": [
              "(array([[12, 12, 12],\n",
              "        [18, 18, 18],\n",
              "        [24, 24, 24]]),\n",
              " array([[12, 12, 12],\n",
              "        [18, 18, 18],\n",
              "        [24, 24, 24]]))"
            ]
          },
          "metadata": {},
          "execution_count": 95
        }
      ]
    },
    {
      "cell_type": "markdown",
      "source": [
        "### 2.3 Identiy and Inverse Matrices"
      ],
      "metadata": {
        "id": "2nmgl8w6Zt_6"
      }
    },
    {
      "cell_type": "code",
      "source": [
        "# Identity and Inverse Matrix\n",
        "D = np.array([[1, 0, 0],\n",
        "              [0, 2, 0],\n",
        "              [0, 0, 4]])"
      ],
      "metadata": {
        "id": "5Sjflagcnb5E"
      },
      "execution_count": null,
      "outputs": []
    },
    {
      "cell_type": "code",
      "source": [
        "# determinat\n",
        "det_D = np.linalg.det(D)\n",
        "det_D"
      ],
      "metadata": {
        "colab": {
          "base_uri": "https://localhost:8080/"
        },
        "id": "MQhCxffntU47",
        "outputId": "2d616168-db63-4fb3-f4cc-f0e60ff7a043"
      },
      "execution_count": null,
      "outputs": [
        {
          "output_type": "execute_result",
          "data": {
            "text/plain": [
              "7.999999999999998"
            ]
          },
          "metadata": {},
          "execution_count": 162
        }
      ]
    },
    {
      "cell_type": "code",
      "source": [
        "# inverse\n",
        "D_inv = np.linalg.inv(D)\n",
        "D_inv"
      ],
      "metadata": {
        "colab": {
          "base_uri": "https://localhost:8080/"
        },
        "id": "fcLZ7iaTtd3F",
        "outputId": "5780ad74-4e26-491f-86c8-a5055cd071f1"
      },
      "execution_count": null,
      "outputs": [
        {
          "output_type": "execute_result",
          "data": {
            "text/plain": [
              "array([[1.  , 0.  , 0.  ],\n",
              "       [0.  , 0.5 , 0.  ],\n",
              "       [0.  , 0.  , 0.25]])"
            ]
          },
          "metadata": {},
          "execution_count": 181
        }
      ]
    },
    {
      "cell_type": "code",
      "source": [
        "# D_inv @ D -> I\n",
        "I = D_inv @ D\n",
        "I"
      ],
      "metadata": {
        "colab": {
          "base_uri": "https://localhost:8080/"
        },
        "id": "zwrw4V0evWy6",
        "outputId": "5881ee49-03d4-4ea4-f74a-9cdf424e39e3"
      },
      "execution_count": null,
      "outputs": [
        {
          "output_type": "execute_result",
          "data": {
            "text/plain": [
              "array([[1., 0., 0.],\n",
              "       [0., 1., 0.],\n",
              "       [0., 0., 1.]])"
            ]
          },
          "metadata": {},
          "execution_count": 180
        }
      ]
    },
    {
      "cell_type": "code",
      "source": [
        "# linear dependency\n",
        "B = np.matrix([[1, 2, 3],\n",
        "               [4, 5, 6],\n",
        "               [7, 8, 9]])\n",
        "B.shape"
      ],
      "metadata": {
        "colab": {
          "base_uri": "https://localhost:8080/"
        },
        "id": "THYgGtF3nqyn",
        "outputId": "e9784779-ebd2-4def-cae3-ed046495ba44"
      },
      "execution_count": null,
      "outputs": [
        {
          "output_type": "execute_result",
          "data": {
            "text/plain": [
              "(3, 3)"
            ]
          },
          "metadata": {},
          "execution_count": 146
        }
      ]
    },
    {
      "cell_type": "code",
      "source": [
        "# A matrix is considered to have linearly dependent rows if its rank is less than the number of rows.\n",
        "np.linalg.matrix_rank(B) # rank of B is 2 < number of rows -> linear dependency since one row can be represented as a linear combination of the other two"
      ],
      "metadata": {
        "colab": {
          "base_uri": "https://localhost:8080/"
        },
        "id": "z4OAnYqpsDqZ",
        "outputId": "c1369ca8-b2ae-4092-ed26-f90e14a98beb"
      },
      "execution_count": null,
      "outputs": [
        {
          "output_type": "execute_result",
          "data": {
            "text/plain": [
              "2"
            ]
          },
          "metadata": {},
          "execution_count": 147
        }
      ]
    }
  ]
}