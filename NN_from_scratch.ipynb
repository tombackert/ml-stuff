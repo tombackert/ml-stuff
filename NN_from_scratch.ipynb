{
  "nbformat": 4,
  "nbformat_minor": 0,
  "metadata": {
    "colab": {
      "provenance": [],
      "authorship_tag": "ABX9TyP6CvEyAvAvyH6WSGwGM4MO",
      "include_colab_link": true
    },
    "kernelspec": {
      "name": "python3",
      "display_name": "Python 3"
    },
    "language_info": {
      "name": "python"
    },
    "widgets": {
      "application/vnd.jupyter.widget-state+json": {
        "1872ffe5b07844c2b11529a10ab25407": {
          "model_module": "@jupyter-widgets/controls",
          "model_name": "HBoxModel",
          "model_module_version": "1.5.0",
          "state": {
            "_dom_classes": [],
            "_model_module": "@jupyter-widgets/controls",
            "_model_module_version": "1.5.0",
            "_model_name": "HBoxModel",
            "_view_count": null,
            "_view_module": "@jupyter-widgets/controls",
            "_view_module_version": "1.5.0",
            "_view_name": "HBoxView",
            "box_style": "",
            "children": [
              "IPY_MODEL_8a2d65f0a86c4cc08c7b2d061fdc2055",
              "IPY_MODEL_01806a194bf94f179b902211f872ac92",
              "IPY_MODEL_6d0907152e0a45e98d42b60d77f3c834"
            ],
            "layout": "IPY_MODEL_7177921bbefc48178c2f0a35d57e1bd5"
          }
        },
        "8a2d65f0a86c4cc08c7b2d061fdc2055": {
          "model_module": "@jupyter-widgets/controls",
          "model_name": "HTMLModel",
          "model_module_version": "1.5.0",
          "state": {
            "_dom_classes": [],
            "_model_module": "@jupyter-widgets/controls",
            "_model_module_version": "1.5.0",
            "_model_name": "HTMLModel",
            "_view_count": null,
            "_view_module": "@jupyter-widgets/controls",
            "_view_module_version": "1.5.0",
            "_view_name": "HTMLView",
            "description": "",
            "description_tooltip": null,
            "layout": "IPY_MODEL_d2050b1639a941d0a5f457028c02bb85",
            "placeholder": "​",
            "style": "IPY_MODEL_9ea8153fe8b94824becc588c3f315da6",
            "value": "Dl Completed...: 100%"
          }
        },
        "01806a194bf94f179b902211f872ac92": {
          "model_module": "@jupyter-widgets/controls",
          "model_name": "FloatProgressModel",
          "model_module_version": "1.5.0",
          "state": {
            "_dom_classes": [],
            "_model_module": "@jupyter-widgets/controls",
            "_model_module_version": "1.5.0",
            "_model_name": "FloatProgressModel",
            "_view_count": null,
            "_view_module": "@jupyter-widgets/controls",
            "_view_module_version": "1.5.0",
            "_view_name": "ProgressView",
            "bar_style": "success",
            "description": "",
            "description_tooltip": null,
            "layout": "IPY_MODEL_26d823b44caa42129aa155af8b805af2",
            "max": 5,
            "min": 0,
            "orientation": "horizontal",
            "style": "IPY_MODEL_ecb6eab3d4e344ccbb77e25391a5411c",
            "value": 5
          }
        },
        "6d0907152e0a45e98d42b60d77f3c834": {
          "model_module": "@jupyter-widgets/controls",
          "model_name": "HTMLModel",
          "model_module_version": "1.5.0",
          "state": {
            "_dom_classes": [],
            "_model_module": "@jupyter-widgets/controls",
            "_model_module_version": "1.5.0",
            "_model_name": "HTMLModel",
            "_view_count": null,
            "_view_module": "@jupyter-widgets/controls",
            "_view_module_version": "1.5.0",
            "_view_name": "HTMLView",
            "description": "",
            "description_tooltip": null,
            "layout": "IPY_MODEL_30b93ca1f8a24c55bb04918218a580c3",
            "placeholder": "​",
            "style": "IPY_MODEL_3d29029b50954013a4088c385314454a",
            "value": " 5/5 [00:03&lt;00:00,  1.21 file/s]"
          }
        },
        "7177921bbefc48178c2f0a35d57e1bd5": {
          "model_module": "@jupyter-widgets/base",
          "model_name": "LayoutModel",
          "model_module_version": "1.2.0",
          "state": {
            "_model_module": "@jupyter-widgets/base",
            "_model_module_version": "1.2.0",
            "_model_name": "LayoutModel",
            "_view_count": null,
            "_view_module": "@jupyter-widgets/base",
            "_view_module_version": "1.2.0",
            "_view_name": "LayoutView",
            "align_content": null,
            "align_items": null,
            "align_self": null,
            "border": null,
            "bottom": null,
            "display": null,
            "flex": null,
            "flex_flow": null,
            "grid_area": null,
            "grid_auto_columns": null,
            "grid_auto_flow": null,
            "grid_auto_rows": null,
            "grid_column": null,
            "grid_gap": null,
            "grid_row": null,
            "grid_template_areas": null,
            "grid_template_columns": null,
            "grid_template_rows": null,
            "height": null,
            "justify_content": null,
            "justify_items": null,
            "left": null,
            "margin": null,
            "max_height": null,
            "max_width": null,
            "min_height": null,
            "min_width": null,
            "object_fit": null,
            "object_position": null,
            "order": null,
            "overflow": null,
            "overflow_x": null,
            "overflow_y": null,
            "padding": null,
            "right": null,
            "top": null,
            "visibility": null,
            "width": null
          }
        },
        "d2050b1639a941d0a5f457028c02bb85": {
          "model_module": "@jupyter-widgets/base",
          "model_name": "LayoutModel",
          "model_module_version": "1.2.0",
          "state": {
            "_model_module": "@jupyter-widgets/base",
            "_model_module_version": "1.2.0",
            "_model_name": "LayoutModel",
            "_view_count": null,
            "_view_module": "@jupyter-widgets/base",
            "_view_module_version": "1.2.0",
            "_view_name": "LayoutView",
            "align_content": null,
            "align_items": null,
            "align_self": null,
            "border": null,
            "bottom": null,
            "display": null,
            "flex": null,
            "flex_flow": null,
            "grid_area": null,
            "grid_auto_columns": null,
            "grid_auto_flow": null,
            "grid_auto_rows": null,
            "grid_column": null,
            "grid_gap": null,
            "grid_row": null,
            "grid_template_areas": null,
            "grid_template_columns": null,
            "grid_template_rows": null,
            "height": null,
            "justify_content": null,
            "justify_items": null,
            "left": null,
            "margin": null,
            "max_height": null,
            "max_width": null,
            "min_height": null,
            "min_width": null,
            "object_fit": null,
            "object_position": null,
            "order": null,
            "overflow": null,
            "overflow_x": null,
            "overflow_y": null,
            "padding": null,
            "right": null,
            "top": null,
            "visibility": null,
            "width": null
          }
        },
        "9ea8153fe8b94824becc588c3f315da6": {
          "model_module": "@jupyter-widgets/controls",
          "model_name": "DescriptionStyleModel",
          "model_module_version": "1.5.0",
          "state": {
            "_model_module": "@jupyter-widgets/controls",
            "_model_module_version": "1.5.0",
            "_model_name": "DescriptionStyleModel",
            "_view_count": null,
            "_view_module": "@jupyter-widgets/base",
            "_view_module_version": "1.2.0",
            "_view_name": "StyleView",
            "description_width": ""
          }
        },
        "26d823b44caa42129aa155af8b805af2": {
          "model_module": "@jupyter-widgets/base",
          "model_name": "LayoutModel",
          "model_module_version": "1.2.0",
          "state": {
            "_model_module": "@jupyter-widgets/base",
            "_model_module_version": "1.2.0",
            "_model_name": "LayoutModel",
            "_view_count": null,
            "_view_module": "@jupyter-widgets/base",
            "_view_module_version": "1.2.0",
            "_view_name": "LayoutView",
            "align_content": null,
            "align_items": null,
            "align_self": null,
            "border": null,
            "bottom": null,
            "display": null,
            "flex": null,
            "flex_flow": null,
            "grid_area": null,
            "grid_auto_columns": null,
            "grid_auto_flow": null,
            "grid_auto_rows": null,
            "grid_column": null,
            "grid_gap": null,
            "grid_row": null,
            "grid_template_areas": null,
            "grid_template_columns": null,
            "grid_template_rows": null,
            "height": null,
            "justify_content": null,
            "justify_items": null,
            "left": null,
            "margin": null,
            "max_height": null,
            "max_width": null,
            "min_height": null,
            "min_width": null,
            "object_fit": null,
            "object_position": null,
            "order": null,
            "overflow": null,
            "overflow_x": null,
            "overflow_y": null,
            "padding": null,
            "right": null,
            "top": null,
            "visibility": null,
            "width": null
          }
        },
        "ecb6eab3d4e344ccbb77e25391a5411c": {
          "model_module": "@jupyter-widgets/controls",
          "model_name": "ProgressStyleModel",
          "model_module_version": "1.5.0",
          "state": {
            "_model_module": "@jupyter-widgets/controls",
            "_model_module_version": "1.5.0",
            "_model_name": "ProgressStyleModel",
            "_view_count": null,
            "_view_module": "@jupyter-widgets/base",
            "_view_module_version": "1.2.0",
            "_view_name": "StyleView",
            "bar_color": null,
            "description_width": ""
          }
        },
        "30b93ca1f8a24c55bb04918218a580c3": {
          "model_module": "@jupyter-widgets/base",
          "model_name": "LayoutModel",
          "model_module_version": "1.2.0",
          "state": {
            "_model_module": "@jupyter-widgets/base",
            "_model_module_version": "1.2.0",
            "_model_name": "LayoutModel",
            "_view_count": null,
            "_view_module": "@jupyter-widgets/base",
            "_view_module_version": "1.2.0",
            "_view_name": "LayoutView",
            "align_content": null,
            "align_items": null,
            "align_self": null,
            "border": null,
            "bottom": null,
            "display": null,
            "flex": null,
            "flex_flow": null,
            "grid_area": null,
            "grid_auto_columns": null,
            "grid_auto_flow": null,
            "grid_auto_rows": null,
            "grid_column": null,
            "grid_gap": null,
            "grid_row": null,
            "grid_template_areas": null,
            "grid_template_columns": null,
            "grid_template_rows": null,
            "height": null,
            "justify_content": null,
            "justify_items": null,
            "left": null,
            "margin": null,
            "max_height": null,
            "max_width": null,
            "min_height": null,
            "min_width": null,
            "object_fit": null,
            "object_position": null,
            "order": null,
            "overflow": null,
            "overflow_x": null,
            "overflow_y": null,
            "padding": null,
            "right": null,
            "top": null,
            "visibility": null,
            "width": null
          }
        },
        "3d29029b50954013a4088c385314454a": {
          "model_module": "@jupyter-widgets/controls",
          "model_name": "DescriptionStyleModel",
          "model_module_version": "1.5.0",
          "state": {
            "_model_module": "@jupyter-widgets/controls",
            "_model_module_version": "1.5.0",
            "_model_name": "DescriptionStyleModel",
            "_view_count": null,
            "_view_module": "@jupyter-widgets/base",
            "_view_module_version": "1.2.0",
            "_view_name": "StyleView",
            "description_width": ""
          }
        }
      }
    }
  },
  "cells": [
    {
      "cell_type": "markdown",
      "metadata": {
        "id": "view-in-github",
        "colab_type": "text"
      },
      "source": [
        "<a href=\"https://colab.research.google.com/github/tombackert/ml-stuff/blob/main/NN_from_scratch.ipynb\" target=\"_parent\"><img src=\"https://colab.research.google.com/assets/colab-badge.svg\" alt=\"Open In Colab\"/></a>"
      ]
    },
    {
      "cell_type": "code",
      "execution_count": null,
      "metadata": {
        "id": "1wiKU1pCNNO_"
      },
      "outputs": [],
      "source": [
        "import numpy as np\n",
        "import pandas as pd\n",
        "import matplotlib.pyplot as plt\n",
        "import tensorflow_datasets as tfds"
      ]
    },
    {
      "cell_type": "code",
      "source": [
        "ds = tfds.load('mnist', split='train', as_supervised=True)"
      ],
      "metadata": {
        "colab": {
          "base_uri": "https://localhost:8080/",
          "height": 102,
          "referenced_widgets": [
            "1872ffe5b07844c2b11529a10ab25407",
            "8a2d65f0a86c4cc08c7b2d061fdc2055",
            "01806a194bf94f179b902211f872ac92",
            "6d0907152e0a45e98d42b60d77f3c834",
            "7177921bbefc48178c2f0a35d57e1bd5",
            "d2050b1639a941d0a5f457028c02bb85",
            "9ea8153fe8b94824becc588c3f315da6",
            "26d823b44caa42129aa155af8b805af2",
            "ecb6eab3d4e344ccbb77e25391a5411c",
            "30b93ca1f8a24c55bb04918218a580c3",
            "3d29029b50954013a4088c385314454a"
          ]
        },
        "id": "YjDJEyvISGa7",
        "outputId": "6d1f30a9-df03-4638-a780-cb233f1a9990"
      },
      "execution_count": null,
      "outputs": [
        {
          "output_type": "stream",
          "name": "stdout",
          "text": [
            "Downloading and preparing dataset 11.06 MiB (download: 11.06 MiB, generated: 21.00 MiB, total: 32.06 MiB) to /root/tensorflow_datasets/mnist/3.0.1...\n"
          ]
        },
        {
          "output_type": "display_data",
          "data": {
            "text/plain": [
              "Dl Completed...:   0%|          | 0/5 [00:00<?, ? file/s]"
            ],
            "application/vnd.jupyter.widget-view+json": {
              "version_major": 2,
              "version_minor": 0,
              "model_id": "1872ffe5b07844c2b11529a10ab25407"
            }
          },
          "metadata": {}
        },
        {
          "output_type": "stream",
          "name": "stdout",
          "text": [
            "Dataset mnist downloaded and prepared to /root/tensorflow_datasets/mnist/3.0.1. Subsequent calls will reuse this data.\n"
          ]
        }
      ]
    },
    {
      "cell_type": "code",
      "source": [
        "## Converting data into dataframe\n",
        "\n",
        "data = []\n",
        "for image, label in tfds.as_numpy(ds):\n",
        "  pixels = image.flatten()\n",
        "  row = [label] + pixels.tolist()\n",
        "  data.append(row)\n",
        "\n",
        "columns = ['label'] + [f'pixel{i}' for i in range(784)]\n",
        "df = pd.DataFrame(data, columns=columns)"
      ],
      "metadata": {
        "id": "W1gzKB1ySH1-"
      },
      "execution_count": null,
      "outputs": []
    },
    {
      "cell_type": "code",
      "source": [
        "print(df.head(5))\n",
        "print(df.shape)"
      ],
      "metadata": {
        "colab": {
          "base_uri": "https://localhost:8080/"
        },
        "id": "dv7D8_2gT45H",
        "outputId": "d7f100df-ac6b-49cc-c74c-d0417d066a77"
      },
      "execution_count": null,
      "outputs": [
        {
          "output_type": "stream",
          "name": "stdout",
          "text": [
            "   label  pixel0  pixel1  pixel2  pixel3  pixel4  pixel5  pixel6  pixel7  \\\n",
            "0      4       0       0       0       0       0       0       0       0   \n",
            "1      1       0       0       0       0       0       0       0       0   \n",
            "2      0       0       0       0       0       0       0       0       0   \n",
            "3      7       0       0       0       0       0       0       0       0   \n",
            "4      8       0       0       0       0       0       0       0       0   \n",
            "\n",
            "   pixel8  ...  pixel774  pixel775  pixel776  pixel777  pixel778  pixel779  \\\n",
            "0       0  ...         0         0         0         0         0         0   \n",
            "1       0  ...         0         0         0         0         0         0   \n",
            "2       0  ...         0         0         0         0         0         0   \n",
            "3       0  ...         0         0         0         0         0         0   \n",
            "4       0  ...         0         0         0         0         0         0   \n",
            "\n",
            "   pixel780  pixel781  pixel782  pixel783  \n",
            "0         0         0         0         0  \n",
            "1         0         0         0         0  \n",
            "2         0         0         0         0  \n",
            "3         0         0         0         0  \n",
            "4         0         0         0         0  \n",
            "\n",
            "[5 rows x 785 columns]\n",
            "(60000, 785)\n"
          ]
        }
      ]
    },
    {
      "cell_type": "code",
      "source": [
        "## Data splitting\n",
        "\n",
        "data = np.array(data)\n",
        "m, n = data.shape\n",
        "np.random.shuffle(data)\n",
        "\n",
        "data_dev = data[0:1000].T\n",
        "Y_dev = data_dev[0]\n",
        "X_dev = data_dev[1:n]\n",
        "X_dev = X_dev / 255.\n",
        "\n",
        "data_train = data[1000:m].T\n",
        "Y_train = data_train[0]\n",
        "X_train = data_train[1:n]\n",
        "X_train = X_train / 255.\n",
        "_, m_train = X_train.shape"
      ],
      "metadata": {
        "id": "wNeq3R7XUMfh"
      },
      "execution_count": null,
      "outputs": []
    },
    {
      "cell_type": "code",
      "source": [
        "Y_train"
      ],
      "metadata": {
        "colab": {
          "base_uri": "https://localhost:8080/"
        },
        "id": "ncwLVpwXVFRa",
        "outputId": "1a3624cf-ab3a-46ca-96aa-c9db8a739847"
      },
      "execution_count": null,
      "outputs": [
        {
          "output_type": "execute_result",
          "data": {
            "text/plain": [
              "array([3, 8, 2, ..., 4, 1, 5])"
            ]
          },
          "metadata": {},
          "execution_count": 10
        }
      ]
    },
    {
      "cell_type": "code",
      "source": [
        "X_train[:, 0].shape"
      ],
      "metadata": {
        "colab": {
          "base_uri": "https://localhost:8080/"
        },
        "id": "dGSSGa2_VHbv",
        "outputId": "f7460a2c-3897-41aa-e2ef-e506c71531e1"
      },
      "execution_count": null,
      "outputs": [
        {
          "output_type": "execute_result",
          "data": {
            "text/plain": [
              "(784,)"
            ]
          },
          "metadata": {},
          "execution_count": 11
        }
      ]
    },
    {
      "cell_type": "code",
      "source": [
        "## Core functions\n",
        "\n",
        "def init_params():\n",
        "  W1 = np.random.rand(10, 784) - 0.5\n",
        "  b1 = np.random.rand(10, 1) - 0.5\n",
        "  W2 = np.random.rand(10, 10) - 0.5\n",
        "  b2 = np.random.rand(10, 1) - 0.5\n",
        "  return W1, b1, W2, b2\n",
        "\n",
        "def ReLU(Z):\n",
        "  return np.maximum(Z, 0)\n",
        "\n",
        "def softmax(Z):\n",
        "  A = np.exp(Z) / sum(np.exp(Z))\n",
        "  return A\n",
        "\n",
        "def forward_prop(W1, b1, W2, b2, X):\n",
        "  Z1 = W1.dot(X) + b1\n",
        "  A1 = ReLU(Z1)\n",
        "  Z2 = W2.dot(A1) + b2\n",
        "  A2 = softmax(Z2)\n",
        "  return Z1, A1, Z2, A2\n",
        "\n",
        "def one_hot(Y):\n",
        "  one_hot_Y = np.zeros((Y.size, Y.max() + 1))\n",
        "  one_hot_Y[np.arange(Y.size), Y] = 1\n",
        "  one_hot_Y = one_hot_Y.T\n",
        "  return one_hot_Y\n",
        "\n",
        "def deriv_ReLU(Z):\n",
        "  return Z > 0\n",
        "\n",
        "def back_prop(Z1, A1, Z2, A2, W1, W2, X, Y):\n",
        "  one_hot_Y = one_hot(Y)\n",
        "  dZ2 = A2 - one_hot_Y\n",
        "  dW2 = 1 / m * dZ2.dot(A1.T)\n",
        "  db2 = 1 / m * np.sum(dZ2)\n",
        "  dZ1 = W2.T.dot(dZ2) * deriv_ReLU(Z1)\n",
        "  dW1 = 1 / m * dZ1.dot(X.T)\n",
        "  db1 = 1 / m * np.sum(dZ1)\n",
        "  return dW1, db1, dW2, db2\n",
        "\n",
        "def update_params(W1, b1, W2, b2, dW1, db1, dW2, db2, alpha):\n",
        "  W1 = W1 - alpha * dW1\n",
        "  b1 = b1 - alpha * db1\n",
        "  W2 = W2 - alpha * dW2\n",
        "  b2 = b2 - alpha * db2\n",
        "  return W1, b1, W2, b2\n"
      ],
      "metadata": {
        "id": "LJEEReOgVZLp"
      },
      "execution_count": null,
      "outputs": []
    },
    {
      "cell_type": "code",
      "source": [
        "## Training Functions\n",
        "\n",
        "def get_predictions(A2):\n",
        "    return np.argmax(A2, 0)\n",
        "\n",
        "def get_accuracy(predictions, Y):\n",
        "    print(predictions, Y)\n",
        "    return np.sum(predictions == Y) / Y.size\n",
        "\n",
        "def gradient_descent(X, Y, iterations, alpha):\n",
        "  W1, b1, W2, b2 = init_params()\n",
        "  for i in range(iterations):\n",
        "    Z1, A1, Z2, A2 = forward_prop(W1, b1, W2, b2, X)\n",
        "    dW1, db1, dW2, db2 = back_prop(Z1, A1, Z2, A2, W1, W2, X, Y)\n",
        "    W1, b1, W2, b2 = update_params(W1, b1, W2, b2, dW1, db1, dW2, db2, alpha)\n",
        "    if i % 10 == 0:\n",
        "      print(\"Iteration: \", i)\n",
        "      predictions = get_predictions(A2)\n",
        "      print(\"Accuracy: \", get_accuracy(predictions, Y))\n",
        "  return W1, b1, W2, b2"
      ],
      "metadata": {
        "id": "Geq2jVVvZngj"
      },
      "execution_count": null,
      "outputs": []
    },
    {
      "cell_type": "code",
      "source": [
        "W1, b1, W2, b2 = gradient_descent(X_train, Y_train, 500, 0.1)"
      ],
      "metadata": {
        "colab": {
          "base_uri": "https://localhost:8080/"
        },
        "id": "6QNvuhO-aflF",
        "outputId": "4cfcda02-f654-45d6-9d8e-7809142e6073"
      },
      "execution_count": null,
      "outputs": [
        {
          "output_type": "stream",
          "name": "stdout",
          "text": [
            "Iteration:  0\n",
            "[7 9 0 ... 7 9 9] [3 8 2 ... 4 1 5]\n",
            "Accuracy:  0.11659322033898305\n",
            "Iteration:  10\n",
            "[3 8 0 ... 3 8 5] [3 8 2 ... 4 1 5]\n",
            "Accuracy:  0.1886779661016949\n",
            "Iteration:  20\n",
            "[3 8 9 ... 3 8 5] [3 8 2 ... 4 1 5]\n",
            "Accuracy:  0.24525423728813558\n",
            "Iteration:  30\n",
            "[3 8 9 ... 1 1 5] [3 8 2 ... 4 1 5]\n",
            "Accuracy:  0.29815254237288136\n",
            "Iteration:  40\n",
            "[3 8 9 ... 1 1 5] [3 8 2 ... 4 1 5]\n",
            "Accuracy:  0.3449491525423729\n",
            "Iteration:  50\n",
            "[3 8 3 ... 1 1 5] [3 8 2 ... 4 1 5]\n",
            "Accuracy:  0.38637288135593223\n",
            "Iteration:  60\n",
            "[3 8 3 ... 1 1 0] [3 8 2 ... 4 1 5]\n",
            "Accuracy:  0.42133898305084744\n",
            "Iteration:  70\n",
            "[3 8 3 ... 1 1 0] [3 8 2 ... 4 1 5]\n",
            "Accuracy:  0.45352542372881355\n",
            "Iteration:  80\n",
            "[3 9 3 ... 1 1 5] [3 8 2 ... 4 1 5]\n",
            "Accuracy:  0.48459322033898306\n",
            "Iteration:  90\n",
            "[3 9 3 ... 1 1 5] [3 8 2 ... 4 1 5]\n",
            "Accuracy:  0.5146949152542373\n",
            "Iteration:  100\n",
            "[3 9 3 ... 2 1 5] [3 8 2 ... 4 1 5]\n",
            "Accuracy:  0.5411864406779661\n",
            "Iteration:  110\n",
            "[3 9 3 ... 2 1 5] [3 8 2 ... 4 1 5]\n",
            "Accuracy:  0.5652033898305084\n",
            "Iteration:  120\n",
            "[3 9 2 ... 2 1 5] [3 8 2 ... 4 1 5]\n",
            "Accuracy:  0.5891694915254237\n",
            "Iteration:  130\n",
            "[3 9 2 ... 2 1 5] [3 8 2 ... 4 1 5]\n",
            "Accuracy:  0.6114915254237289\n",
            "Iteration:  140\n",
            "[3 9 2 ... 2 1 5] [3 8 2 ... 4 1 5]\n",
            "Accuracy:  0.6320847457627119\n",
            "Iteration:  150\n",
            "[3 9 2 ... 6 1 5] [3 8 2 ... 4 1 5]\n",
            "Accuracy:  0.6482542372881356\n",
            "Iteration:  160\n",
            "[3 9 2 ... 6 1 5] [3 8 2 ... 4 1 5]\n",
            "Accuracy:  0.6606101694915254\n",
            "Iteration:  170\n",
            "[3 9 2 ... 6 1 5] [3 8 2 ... 4 1 5]\n",
            "Accuracy:  0.6713050847457627\n",
            "Iteration:  180\n",
            "[3 9 2 ... 6 1 5] [3 8 2 ... 4 1 5]\n",
            "Accuracy:  0.6815254237288135\n",
            "Iteration:  190\n",
            "[3 4 2 ... 6 1 5] [3 8 2 ... 4 1 5]\n",
            "Accuracy:  0.6918135593220339\n",
            "Iteration:  200\n",
            "[3 4 2 ... 6 1 5] [3 8 2 ... 4 1 5]\n",
            "Accuracy:  0.6998983050847457\n",
            "Iteration:  210\n",
            "[3 8 2 ... 6 1 5] [3 8 2 ... 4 1 5]\n",
            "Accuracy:  0.7079322033898305\n",
            "Iteration:  220\n",
            "[3 8 2 ... 6 1 5] [3 8 2 ... 4 1 5]\n",
            "Accuracy:  0.7155593220338983\n",
            "Iteration:  230\n",
            "[3 8 2 ... 6 1 5] [3 8 2 ... 4 1 5]\n",
            "Accuracy:  0.7224237288135593\n",
            "Iteration:  240\n",
            "[3 8 2 ... 6 1 5] [3 8 2 ... 4 1 5]\n",
            "Accuracy:  0.7297796610169491\n",
            "Iteration:  250\n",
            "[3 8 2 ... 6 1 5] [3 8 2 ... 4 1 5]\n",
            "Accuracy:  0.736135593220339\n",
            "Iteration:  260\n",
            "[3 8 2 ... 6 1 5] [3 8 2 ... 4 1 5]\n",
            "Accuracy:  0.7417796610169491\n",
            "Iteration:  270\n",
            "[3 8 2 ... 6 1 5] [3 8 2 ... 4 1 5]\n",
            "Accuracy:  0.7461186440677966\n",
            "Iteration:  280\n",
            "[3 8 2 ... 6 1 5] [3 8 2 ... 4 1 5]\n",
            "Accuracy:  0.7510508474576271\n",
            "Iteration:  290\n",
            "[3 8 2 ... 6 1 5] [3 8 2 ... 4 1 5]\n",
            "Accuracy:  0.7557288135593221\n",
            "Iteration:  300\n",
            "[3 8 2 ... 6 1 5] [3 8 2 ... 4 1 5]\n",
            "Accuracy:  0.7603389830508475\n",
            "Iteration:  310\n",
            "[3 8 2 ... 6 1 5] [3 8 2 ... 4 1 5]\n",
            "Accuracy:  0.7649491525423728\n",
            "Iteration:  320\n",
            "[3 8 2 ... 6 1 5] [3 8 2 ... 4 1 5]\n",
            "Accuracy:  0.7695762711864407\n",
            "Iteration:  330\n",
            "[3 8 2 ... 6 1 5] [3 8 2 ... 4 1 5]\n",
            "Accuracy:  0.7738813559322034\n",
            "Iteration:  340\n",
            "[3 8 2 ... 6 1 5] [3 8 2 ... 4 1 5]\n",
            "Accuracy:  0.7771016949152543\n",
            "Iteration:  350\n",
            "[3 8 2 ... 6 1 5] [3 8 2 ... 4 1 5]\n",
            "Accuracy:  0.7812033898305085\n",
            "Iteration:  360\n",
            "[3 8 2 ... 6 1 5] [3 8 2 ... 4 1 5]\n",
            "Accuracy:  0.785\n",
            "Iteration:  370\n",
            "[3 8 2 ... 6 1 5] [3 8 2 ... 4 1 5]\n",
            "Accuracy:  0.7887118644067797\n",
            "Iteration:  380\n",
            "[3 8 2 ... 6 1 5] [3 8 2 ... 4 1 5]\n",
            "Accuracy:  0.7923050847457627\n",
            "Iteration:  390\n",
            "[3 8 2 ... 6 1 5] [3 8 2 ... 4 1 5]\n",
            "Accuracy:  0.795542372881356\n",
            "Iteration:  400\n",
            "[3 8 2 ... 6 1 5] [3 8 2 ... 4 1 5]\n",
            "Accuracy:  0.7992033898305084\n",
            "Iteration:  410\n",
            "[3 8 2 ... 6 1 5] [3 8 2 ... 4 1 5]\n",
            "Accuracy:  0.8022203389830509\n",
            "Iteration:  420\n",
            "[3 8 2 ... 6 1 5] [3 8 2 ... 4 1 5]\n",
            "Accuracy:  0.8052881355932203\n",
            "Iteration:  430\n",
            "[3 8 2 ... 6 1 5] [3 8 2 ... 4 1 5]\n",
            "Accuracy:  0.8077966101694916\n",
            "Iteration:  440\n",
            "[3 8 2 ... 6 1 5] [3 8 2 ... 4 1 5]\n",
            "Accuracy:  0.8105593220338984\n",
            "Iteration:  450\n",
            "[3 8 2 ... 6 1 5] [3 8 2 ... 4 1 5]\n",
            "Accuracy:  0.8132033898305084\n",
            "Iteration:  460\n",
            "[3 8 2 ... 6 1 5] [3 8 2 ... 4 1 5]\n",
            "Accuracy:  0.8163559322033899\n",
            "Iteration:  470\n",
            "[3 8 2 ... 6 1 5] [3 8 2 ... 4 1 5]\n",
            "Accuracy:  0.8190508474576271\n",
            "Iteration:  480\n",
            "[3 8 2 ... 6 1 5] [3 8 2 ... 4 1 5]\n",
            "Accuracy:  0.8216949152542373\n",
            "Iteration:  490\n",
            "[3 8 2 ... 6 1 5] [3 8 2 ... 4 1 5]\n",
            "Accuracy:  0.8239322033898305\n"
          ]
        }
      ]
    },
    {
      "cell_type": "code",
      "source": [
        "def make_predictions(X, W1, b1, W2, b2):\n",
        "    _, _, _, A2 = forward_prop(W1, b1, W2, b2, X)\n",
        "    predictions = get_predictions(A2)\n",
        "    return predictions\n",
        "\n",
        "def test_prediction(index, W1, b1, W2, b2):\n",
        "    current_image = X_train[:, index, None]\n",
        "    prediction = make_predictions(X_train[:, index, None], W1, b1, W2, b2)\n",
        "    label = Y_train[index]\n",
        "    print(\"Prediction: \", prediction)\n",
        "    print(\"Label: \", label)\n",
        "\n",
        "    current_image = current_image.reshape((28, 28)) * 255\n",
        "    plt.gray()\n",
        "    plt.imshow(current_image, interpolation='nearest')\n",
        "    plt.show()"
      ],
      "metadata": {
        "id": "xGibEKsuajA5"
      },
      "execution_count": null,
      "outputs": []
    },
    {
      "cell_type": "code",
      "source": [
        "test_prediction(1, W1, b1, W2, b2)"
      ],
      "metadata": {
        "colab": {
          "base_uri": "https://localhost:8080/",
          "height": 462
        },
        "id": "V0Fk39zYamCH",
        "outputId": "d6df1124-5d23-4dd4-f3ce-24ed0f844f80"
      },
      "execution_count": null,
      "outputs": [
        {
          "output_type": "stream",
          "name": "stdout",
          "text": [
            "Prediction:  [8]\n",
            "Label:  8\n"
          ]
        },
        {
          "output_type": "display_data",
          "data": {
            "text/plain": [
              "<Figure size 640x480 with 1 Axes>"
            ],
            "image/png": "[encoded data removed]"
          },
          "metadata": {}
        }
      ]
    },
    {
      "cell_type": "code",
      "source": [
        "dev_predictions = make_predictions(X_dev, W1, b1, W2, b2)\n",
        "get_accuracy(dev_predictions, Y_dev)"
      ],
      "metadata": {
        "colab": {
          "base_uri": "https://localhost:8080/"
        },
        "id": "epX6y1A4dOVl",
        "outputId": "b602e647-bccd-4d17-cb8e-9ce490398758"
      },
      "execution_count": null,
      "outputs": [
        {
          "output_type": "stream",
          "name": "stdout",
          "text": [
            "[2 4 1 4 0 3 7 7 5 7 1 0 9 6 9 2 4 1 3 2 0 8 7 1 9 4 8 3 3 0 9 8 2 0 7 8 6\n",
            " 4 9 3 8 7 3 9 3 8 3 2 1 3 1 0 2 9 0 0 7 2 0 3 2 9 1 7 5 9 8 0 9 5 0 7 3 7\n",
            " 8 3 0 2 3 0 2 0 3 5 2 9 3 0 4 9 7 7 5 6 6 1 8 1 1 1 5 0 6 8 0 8 4 9 0 4 4\n",
            " 5 0 7 0 2 0 0 6 7 1 4 7 7 1 1 8 7 6 6 2 8 9 0 8 7 5 5 0 0 5 9 9 9 0 3 7 9\n",
            " 3 3 5 8 0 7 2 2 6 0 8 7 1 6 9 9 7 4 9 4 7 5 6 6 9 8 8 4 0 9 0 9 0 8 3 3 4\n",
            " 8 7 6 6 6 8 4 6 6 8 1 7 4 7 0 1 6 5 5 3 6 6 2 5 1 2 0 7 0 0 3 2 5 1 4 5 8\n",
            " 8 9 6 2 2 1 0 4 1 3 0 8 0 7 0 9 0 8 0 7 4 0 0 7 4 1 5 1 1 6 0 4 4 5 5 2 7\n",
            " 4 7 8 1 9 7 2 1 5 7 4 1 9 2 3 3 0 8 1 9 3 6 0 0 7 6 7 7 4 9 7 4 9 6 7 4 8\n",
            " 6 3 5 5 0 0 3 6 8 4 7 2 3 7 1 3 4 5 4 3 1 9 9 2 4 3 1 0 5 7 1 4 9 2 1 4 4\n",
            " 3 8 1 0 5 9 2 6 5 7 9 7 2 2 3 1 1 3 8 4 1 2 7 5 7 0 3 3 7 4 5 2 8 4 4 8 2\n",
            " 7 5 8 3 8 1 0 8 8 1 3 8 0 6 5 9 1 6 4 2 5 0 9 2 2 3 0 6 8 9 9 4 6 6 0 3 7\n",
            " 6 6 2 1 1 3 9 9 3 2 3 8 4 7 2 6 8 0 4 5 2 4 4 4 2 9 1 8 8 7 9 6 2 3 2 0 3\n",
            " 0 5 9 4 8 9 3 0 8 7 1 3 4 3 1 1 1 1 2 4 7 8 3 3 3 0 6 9 2 6 1 8 5 2 3 1 3\n",
            " 5 0 0 8 3 6 5 6 5 2 7 8 4 9 8 2 4 6 8 5 8 9 2 4 0 6 0 2 9 0 1 6 8 3 5 3 1\n",
            " 8 2 9 9 1 8 7 7 8 0 6 0 7 2 6 5 3 3 0 2 2 3 8 9 4 6 0 9 6 1 7 0 9 6 5 4 0\n",
            " 0 2 0 1 9 2 3 1 9 9 7 5 2 5 3 6 2 1 0 7 7 7 7 5 1 0 1 4 8 3 3 5 2 8 4 1 3\n",
            " 6 8 0 9 8 5 9 7 9 0 1 5 0 7 9 1 6 1 1 7 1 7 4 6 9 1 5 8 8 6 0 1 0 7 4 2 8\n",
            " 0 4 4 6 1 1 8 1 7 8 0 4 4 4 1 4 8 1 7 7 7 9 0 3 5 6 0 3 8 1 3 2 9 3 8 0 2\n",
            " 8 3 6 3 8 7 7 9 4 3 4 7 0 4 8 9 7 3 8 7 3 0 1 3 3 1 9 6 7 4 7 4 7 8 5 3 2\n",
            " 2 5 9 2 4 8 5 6 4 1 2 4 6 6 1 1 0 2 1 9 9 1 1 2 3 6 8 4 2 4 4 0 3 7 7 8 6\n",
            " 5 5 4 6 4 4 3 3 8 1 2 0 9 9 8 4 6 1 2 1 7 9 6 5 4 7 8 1 5 7 0 8 9 1 4 1 6\n",
            " 7 5 9 8 8 0 4 7 5 8 6 9 2 0 7 0 1 5 9 7 9 8 3 9 3 9 1 9 8 7 8 1 3 6 3 0 0\n",
            " 4 9 5 7 5 7 0 8 0 0 8 4 9 7 0 6 7 8 7 7 4 6 1 0 1 0 1 6 4 9 1 8 2 2 9 7 2\n",
            " 3 6 8 8 3 7 4 5 7 2 9 8 4 3 2 2 1 2 7 2 8 7 9 2 7 0 4 6 3 2 3 7 1 6 8 3 7\n",
            " 7 8 5 0 4 8 9 9 9 1 9 7 8 8 0 7 0 1 5 5 8 9 9 0 6 9 1 2 8 9 8 3 2 3 5 9 6\n",
            " 9 7 2 6 4 4 0 7 2 6 1 1 8 0 0 6 0 1 7 2 1 0 3 6 0 0 6 4 6 3 9 9 1 2 8 2 4\n",
            " 9 8 9 1 0 1 3 2 6 2 0 3 0 3 8 5 0 4 5 3 7 0 4 5 6 1 9 1 7 7 6 1 2 7 1 3 9\n",
            " 3] [2 9 1 8 0 3 7 7 5 7 1 0 9 6 8 2 4 1 2 6 0 8 7 1 9 4 8 2 0 0 4 8 2 0 2 8 5\n",
            " 4 9 3 8 9 3 4 3 8 3 2 1 3 1 0 2 4 0 0 7 2 0 3 2 9 1 7 3 5 3 0 9 5 0 7 3 7\n",
            " 8 3 0 2 3 0 4 0 3 6 2 9 3 0 2 9 7 7 3 6 6 1 8 1 1 1 5 0 6 8 5 8 4 9 0 4 4\n",
            " 5 0 7 0 2 0 0 6 7 1 5 7 7 1 1 8 3 6 6 2 8 4 0 8 9 5 8 0 0 0 8 9 4 0 3 7 4\n",
            " 1 3 5 8 5 7 2 2 6 0 8 7 3 6 9 9 7 9 9 4 3 5 5 6 9 8 8 4 0 9 0 5 0 1 3 3 9\n",
            " 8 7 6 6 6 8 5 6 6 8 1 7 4 7 5 1 6 5 3 3 9 6 2 5 1 2 0 7 0 0 3 2 0 1 4 5 8\n",
            " 8 7 6 3 2 1 0 4 1 5 0 5 0 7 0 9 0 8 0 7 4 0 0 9 9 2 5 1 2 6 0 6 4 5 5 9 7\n",
            " 4 7 2 8 4 7 2 1 5 7 4 8 4 2 8 5 9 8 1 3 7 6 0 0 7 6 7 7 4 9 4 4 9 5 7 9 4\n",
            " 6 3 5 5 0 0 5 6 8 4 8 2 3 7 1 3 4 8 4 5 1 9 9 2 4 3 1 0 5 7 1 4 9 2 1 9 4\n",
            " 3 8 1 0 3 9 2 6 5 7 9 7 2 2 3 1 1 2 8 4 1 4 7 5 7 0 3 3 7 4 5 6 8 4 7 8 2\n",
            " 7 8 3 1 8 1 0 5 5 1 3 8 5 6 5 9 1 6 4 2 5 0 8 2 2 8 5 6 8 9 9 4 6 4 0 3 9\n",
            " 6 6 2 1 1 3 5 9 3 2 3 8 4 7 2 6 8 0 4 5 3 4 4 4 8 9 1 1 8 7 9 6 2 3 2 0 3\n",
            " 0 5 9 9 5 4 3 0 1 7 1 3 4 3 1 2 1 1 2 9 7 8 5 3 3 0 6 4 2 6 7 8 5 2 3 1 3\n",
            " 0 0 0 7 3 6 5 6 5 2 7 8 4 9 1 3 9 6 5 5 8 4 2 9 0 6 0 2 9 0 1 6 8 3 8 5 1\n",
            " 8 2 4 9 1 8 7 7 8 0 6 0 7 2 6 0 3 3 0 2 2 3 8 9 7 3 6 9 6 1 7 0 9 6 5 9 0\n",
            " 0 5 0 1 9 4 3 1 9 9 7 5 2 8 3 6 2 1 0 7 7 7 7 5 1 0 1 4 8 3 3 5 0 8 9 1 3\n",
            " 6 3 8 4 8 5 9 7 9 0 1 3 0 7 4 1 4 1 1 7 1 7 4 6 4 1 5 8 4 6 0 1 0 7 2 2 5\n",
            " 0 9 4 6 9 1 8 1 7 8 0 4 4 4 1 4 8 1 7 7 7 9 0 8 5 6 9 3 8 1 3 2 9 5 8 0 2\n",
            " 8 3 6 3 5 7 7 9 4 3 4 7 0 9 0 4 7 3 8 7 3 0 1 5 3 9 4 8 7 4 7 9 3 8 5 3 2\n",
            " 2 5 9 0 4 8 5 6 4 1 2 4 6 4 1 1 0 2 1 9 7 1 2 2 3 6 3 4 6 4 4 2 3 7 7 8 4\n",
            " 5 5 4 6 4 4 3 3 1 1 2 0 9 4 5 4 6 1 2 1 7 9 6 3 8 7 8 1 5 2 0 8 9 1 4 1 6\n",
            " 7 8 9 8 8 0 4 8 5 4 6 4 2 0 5 0 1 5 9 7 5 8 3 9 3 9 1 9 2 3 8 1 3 6 3 0 0\n",
            " 4 9 6 7 8 7 0 8 5 0 8 4 4 7 0 6 7 3 7 7 4 6 1 0 1 0 1 6 4 9 8 8 2 2 9 7 2\n",
            " 3 6 8 2 3 7 4 5 7 2 4 8 4 3 2 2 2 2 9 2 5 7 9 4 7 0 4 6 5 2 3 7 1 6 8 3 7\n",
            " 7 8 5 0 4 5 9 9 9 2 7 7 6 5 0 7 0 1 8 5 8 9 9 0 6 9 1 2 8 4 1 8 2 2 5 4 6\n",
            " 3 7 2 6 4 4 0 7 5 6 1 1 8 0 0 6 0 1 7 2 1 0 3 6 0 0 2 4 6 3 9 4 1 2 8 2 4\n",
            " 9 8 4 1 0 1 3 6 6 9 0 3 0 3 8 5 0 4 5 3 7 0 4 8 6 1 9 1 7 7 6 1 3 7 8 3 9\n",
            " 0]\n"
          ]
        },
        {
          "output_type": "execute_result",
          "data": {
            "text/plain": [
              "0.795"
            ]
          },
          "metadata": {},
          "execution_count": 28
        }
      ]
    }
  ]
}