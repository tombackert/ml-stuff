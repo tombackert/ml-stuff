{
  "nbformat": 4,
  "nbformat_minor": 0,
  "metadata": {
    "colab": {
      "provenance": [],
      "toc_visible": true,
      "gpuType": "T4",
      "authorship_tag": "ABX9TyM4v/5gdupoY6EeEsjGtn0e",
      "include_colab_link": true
    },
    "kernelspec": {
      "name": "python3",
      "display_name": "Python 3"
    },
    "language_info": {
      "name": "python"
    },
    "accelerator": "GPU",
    "widgets": {
      "application/vnd.jupyter.widget-state+json": {
        "82fb95eb7cbf4f95b5a697b937ea7ea9": {
          "model_module": "@jupyter-widgets/output",
          "model_name": "OutputModel",
          "model_module_version": "1.0.0",
          "state": {
            "_dom_classes": [],
            "_model_module": "@jupyter-widgets/output",
            "_model_module_version": "1.0.0",
            "_model_name": "OutputModel",
            "_view_count": null,
            "_view_module": "@jupyter-widgets/output",
            "_view_module_version": "1.0.0",
            "_view_name": "OutputView",
            "layout": "IPY_MODEL_a7c247cbdf5143a29ea8427c1ae08a7a",
            "msg_id": "",
            "outputs": [
              {
                "output_type": "display_data",
                "data": {
                  "text/plain": "\u001b[35m 100%\u001b[0m \u001b[38;2;249;38;114m━━━━━━━━━━━━━━━━━━━━━━━━━━━━━━━━━━━━━━━━━━━━━━━━━━━━━━━━━━━\u001b[0m\u001b[38;2;249;38;114m╸\u001b[0m \u001b[32m99,977/100,000 \u001b[0m [ \u001b[33m0:07:34\u001b[0m < \u001b[36m0:00:01\u001b[0m , \u001b[31m231 it/s\u001b[0m ]\n",
                  "text/html": "<pre style=\"white-space:pre;overflow-x:auto;line-height:normal;font-family:Menlo,'DejaVu Sans Mono',consolas,'Courier New',monospace\"><span style=\"color: #800080; text-decoration-color: #800080\"> 100%</span> <span style=\"color: #f92672; text-decoration-color: #f92672\">━━━━━━━━━━━━━━━━━━━━━━━━━━━━━━━━━━━━━━━━━━━━━━━━━━━━━━━━━━━╸</span> <span style=\"color: #008000; text-decoration-color: #008000\">99,977/100,000 </span> [ <span style=\"color: #808000; text-decoration-color: #808000\">0:07:34</span> &lt; <span style=\"color: #008080; text-decoration-color: #008080\">0:00:01</span> , <span style=\"color: #800000; text-decoration-color: #800000\">231 it/s</span> ]\n</pre>\n"
                },
                "metadata": {}
              }
            ]
          }
        },
        "a7c247cbdf5143a29ea8427c1ae08a7a": {
          "model_module": "@jupyter-widgets/base",
          "model_name": "LayoutModel",
          "model_module_version": "1.2.0",
          "state": {
            "_model_module": "@jupyter-widgets/base",
            "_model_module_version": "1.2.0",
            "_model_name": "LayoutModel",
            "_view_count": null,
            "_view_module": "@jupyter-widgets/base",
            "_view_module_version": "1.2.0",
            "_view_name": "LayoutView",
            "align_content": null,
            "align_items": null,
            "align_self": null,
            "border": null,
            "bottom": null,
            "display": null,
            "flex": null,
            "flex_flow": null,
            "grid_area": null,
            "grid_auto_columns": null,
            "grid_auto_flow": null,
            "grid_auto_rows": null,
            "grid_column": null,
            "grid_gap": null,
            "grid_row": null,
            "grid_template_areas": null,
            "grid_template_columns": null,
            "grid_template_rows": null,
            "height": null,
            "justify_content": null,
            "justify_items": null,
            "left": null,
            "margin": null,
            "max_height": null,
            "max_width": null,
            "min_height": null,
            "min_width": null,
            "object_fit": null,
            "object_position": null,
            "order": null,
            "overflow": null,
            "overflow_x": null,
            "overflow_y": null,
            "padding": null,
            "right": null,
            "top": null,
            "visibility": null,
            "width": null
          }
        }
      }
    }
  },
  "cells": [
    {
      "cell_type": "markdown",
      "metadata": {
        "id": "view-in-github",
        "colab_type": "text"
      },
      "source": [
        "<a href=\"https://colab.research.google.com/github/tombackert/ml-stuff/blob/main/first_notebook_on_reinforcement_learning.ipynb\" target=\"_parent\"><img src=\"https://colab.research.google.com/assets/colab-badge.svg\" alt=\"Open In Colab\"/></a>"
      ]
    },
    {
      "cell_type": "markdown",
      "source": [
        "# First Notebook on Reinforcement Learning"
      ],
      "metadata": {
        "id": "M6f0S0mJyG6y"
      }
    },
    {
      "cell_type": "markdown",
      "source": [
        "\n",
        "## Solving the Lunar Lander Problem\n",
        "\n",
        "Sources:\n",
        "1. [Gymnasium](https://gymnasium.farama.org/)\n",
        "2. [Stable Baselines3](https://stable-baselines3.readthedocs.io/en/master/#)\n",
        "3. [Deep Mind paper](https://arxiv.org/abs/1312.5602)\n",
        "4. [Natur article](https://www.nature.com/articles/nature14236)\n",
        "5. [Tuned Hyperparamters for DQN Model](https://github.com/DLR-RM/rl-baselines3-zoo/blob/master/hyperparams/dqn.yml)\n",
        "\n",
        "Reinforcement Learning Resources:\n",
        "- [OpenAI Spinning Up](https://spinningup.openai.com/en/latest/)\n",
        "- [Huggingface's Deep RL Course](https://huggingface.co/learn/deep-rl-course/unit0/introduction)\n",
        "- [Lilian Weng's Blog](https://lilianweng.github.io/posts/2018-04-08-policy-gradient/)\n",
        "- [Berkley's Deep RL Bootcamp](https://sites.google.com/view/deep-rl-bootcamp/lectures)\n",
        "\n",
        "\n",
        "*more updates coming...*"
      ],
      "metadata": {
        "id": "wGF5YCC5wwfs"
      }
    },
    {
      "cell_type": "markdown",
      "source": [
        "### 0. Dependencies and Imports"
      ],
      "metadata": {
        "id": "MyBN_3kB-Mlx"
      }
    },
    {
      "cell_type": "code",
      "source": [
        "# dependencies\n",
        "!apt-get update && apt-get install swig cmake\n",
        "!pip install box2d-py\n",
        "\n",
        "!pip install \"stable-baselines3[extra]>=2.0.0a4\""
      ],
      "metadata": {
        "id": "83kjAfMOqtvl"
      },
      "execution_count": null,
      "outputs": []
    },
    {
      "cell_type": "code",
      "source": [
        "# imports\n",
        "import gymnasium as gym\n",
        "import imageio\n",
        "import numpy as np\n",
        "\n",
        "from stable_baselines3 import DQN\n",
        "from stable_baselines3.common.evaluation import evaluate_policy"
      ],
      "metadata": {
        "id": "zNMvOJNr-FrS"
      },
      "execution_count": null,
      "outputs": []
    },
    {
      "cell_type": "markdown",
      "source": [
        "### 1. Building and Training the Agent"
      ],
      "metadata": {
        "id": "_e7Vt5MD-JAF"
      }
    },
    {
      "cell_type": "code",
      "source": [
        "# Deep RL Model using the DQN Algorithm\n",
        "\n",
        "# hyperparameters (tuned from link 5)\n",
        "policy=\"MlpPolicy\"\n",
        "env=\"LunarLander-v2\"\n",
        "learning_rate=6.3e-4\n",
        "buffer_size=50000\n",
        "learning_starts=0\n",
        "batch_size=128\n",
        "target_update_interval=250\n",
        "gamma=0.99\n",
        "train_freq=4\n",
        "gradient_steps=-1\n",
        "exploration_fraction=0.12\n",
        "exploration_final_eps=0.1\n",
        "policy_kwargs=dict(net_arch=[256, 256])\n",
        "\n",
        "\n",
        "# model\n",
        "model = DQN(policy=policy,\n",
        "            env=env,\n",
        "            learning_rate=learning_rate,\n",
        "            buffer_size=buffer_size,\n",
        "            learning_starts=learning_starts,\n",
        "            batch_size=batch_size,\n",
        "            target_update_interval=target_update_interval,\n",
        "            gamma=gamma,\n",
        "            train_freq=train_freq,\n",
        "            gradient_steps=gradient_steps,\n",
        "            exploration_fraction=exploration_fraction,\n",
        "            exploration_final_eps=exploration_final_eps,\n",
        "            policy_kwargs=policy_kwargs\n",
        "            ).learn(total_timesteps=100_000, progress_bar=True)\n",
        "\n",
        "# trains aproxi 8 mins on gpu"
      ],
      "metadata": {
        "colab": {
          "base_uri": "https://localhost:8080/",
          "height": 85,
          "referenced_widgets": [
            "82fb95eb7cbf4f95b5a697b937ea7ea9",
            "a7c247cbdf5143a29ea8427c1ae08a7a"
          ]
        },
        "id": "AWyRhqOwuafi",
        "outputId": "807e7d72-4724-4b19-acf9-9fd77023c7bf"
      },
      "execution_count": 20,
      "outputs": [
        {
          "output_type": "display_data",
          "data": {
            "text/plain": [
              "Output()"
            ],
            "application/vnd.jupyter.widget-view+json": {
              "version_major": 2,
              "version_minor": 0,
              "model_id": "82fb95eb7cbf4f95b5a697b937ea7ea9"
            }
          },
          "metadata": {}
        },
        {
          "output_type": "stream",
          "name": "stderr",
          "text": [
            "/usr/local/lib/python3.10/dist-packages/ipykernel/ipkernel.py:283: DeprecationWarning: `should_run_async` will not call `transform_cell` automatically in the future. Please pass the result to `transformed_cell` argument and any exception that happen during thetransform in `preprocessing_exc_tuple` in IPython 7.17 and above.\n",
            "  and should_run_async(code)\n"
          ]
        },
        {
          "output_type": "display_data",
          "data": {
            "text/plain": [],
            "text/html": [
              "<pre style=\"white-space:pre;overflow-x:auto;line-height:normal;font-family:Menlo,'DejaVu Sans Mono',consolas,'Courier New',monospace\"></pre>\n"
            ]
          },
          "metadata": {}
        },
        {
          "output_type": "display_data",
          "data": {
            "text/plain": [
              "\n"
            ],
            "text/html": [
              "<pre style=\"white-space:pre;overflow-x:auto;line-height:normal;font-family:Menlo,'DejaVu Sans Mono',consolas,'Courier New',monospace\">\n",
              "</pre>\n"
            ]
          },
          "metadata": {}
        }
      ]
    },
    {
      "cell_type": "markdown",
      "source": [
        "### 2. Testing the Agent"
      ],
      "metadata": {
        "id": "qbeaItwh-ZN1"
      }
    },
    {
      "cell_type": "code",
      "source": [
        "# making a gif\n",
        "images = []\n",
        "obs = model.env.reset()\n",
        "img = model.env.render(mode=\"rgb_array\")\n",
        "for i in range(5000):\n",
        "    images.append(img)\n",
        "    action, _ = model.predict(obs)\n",
        "    obs, _, _ ,_ = model.env.step(action)\n",
        "    img = model.env.render(mode=\"rgb_array\")\n",
        "\n",
        "imageio.mimsave(\"lander_dqn.gif\", [np.array(img) for i, img in enumerate(images) if i%2 == 0], fps=29)"
      ],
      "metadata": {
        "id": "yDCVFW8OuCHW"
      },
      "execution_count": 22,
      "outputs": []
    },
    {
      "cell_type": "code",
      "source": [
        "# evaluate the model\n",
        "mean_reward, std_reward = evaluate_policy(model, model.get_env(), n_eval_episodes=10)\n",
        "print(mean_reward, std_reward) # 245.4761378 72.87695287287264"
      ],
      "metadata": {
        "colab": {
          "base_uri": "https://localhost:8080/"
        },
        "id": "wzVoUEgqwXLE",
        "outputId": "c70785a6-19d8-4fe0-8012-d08f70ad1f58"
      },
      "execution_count": 30,
      "outputs": [
        {
          "output_type": "stream",
          "name": "stdout",
          "text": [
            "245.4761378 72.87695287287264\n"
          ]
        }
      ]
    }
  ]
}